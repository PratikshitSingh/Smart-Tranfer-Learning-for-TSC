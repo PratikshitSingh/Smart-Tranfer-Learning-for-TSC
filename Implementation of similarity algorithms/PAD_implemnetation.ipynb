{
  "nbformat": 4,
  "nbformat_minor": 0,
  "metadata": {
    "colab": {
      "provenance": []
    },
    "kernelspec": {
      "name": "python3",
      "display_name": "Python 3"
    },
    "language_info": {
      "name": "python"
    }
  },
  "cells": [
    {
      "cell_type": "code",
      "execution_count": 1,
      "metadata": {
        "id": "8Yu-7YYNBVcR"
      },
      "outputs": [],
      "source": [
        "from pandas import read_csv\n",
        "from matplotlib import pyplot\n",
        "import seaborn as sn\n",
        "import matplotlib.pyplot as plt\n",
        "\n",
        "import numpy as np\n",
        "from sklearn import svm"
      ]
    },
    {
      "cell_type": "code",
      "source": [
        "# MMD implementation\n",
        "# https://github.com/jindongwang/transferlearning/blob/master/code/distance/mmd_numpy_sklearn.py"
      ],
      "metadata": {
        "id": "Bl1Cn_YQHOhD"
      },
      "execution_count": 2,
      "outputs": []
    },
    {
      "cell_type": "code",
      "source": [
        "from google.colab import drive\n",
        "drive.mount('/content/drive/')"
      ],
      "metadata": {
        "colab": {
          "base_uri": "https://localhost:8080/"
        },
        "id": "f5MK3pRrDOTw",
        "outputId": "c89be194-c109-4fa8-9778-e157ea0e17a6"
      },
      "execution_count": 3,
      "outputs": [
        {
          "output_type": "stream",
          "name": "stdout",
          "text": [
            "Mounted at /content/drive/\n"
          ]
        }
      ]
    },
    {
      "cell_type": "code",
      "source": [
        "import os\n",
        "os.chdir('/content/drive/My Drive/Colab Notebooks/Transfer learning project/UCR_TS_Archive_2015/')"
      ],
      "metadata": {
        "id": "9PZ7UHdHDSbn"
      },
      "execution_count": 4,
      "outputs": []
    },
    {
      "cell_type": "code",
      "source": [
        "dataset_list = ['50words/50words_TRAIN', 'Meat/Meat_TRAIN', 'HandOutlines/HandOutlines_TRAIN', \n",
        "                'InlineSkate/InlineSkate_TRAIN', 'DiatomSizeReduction/DiatomSizeReduction_TRAIN']\n",
        "\n",
        "data = []\n",
        "for data_name in dataset_list:\n",
        "  data.append(read_csv(data_name, header=None))"
      ],
      "metadata": {
        "id": "PbonBGZjDV5u"
      },
      "execution_count": 5,
      "outputs": []
    },
    {
      "cell_type": "code",
      "source": [
        "np.shape(data[1])"
      ],
      "metadata": {
        "colab": {
          "base_uri": "https://localhost:8080/"
        },
        "id": "mf60_cD8FtOy",
        "outputId": "42c6fbf0-8f43-4044-e876-de67b1f49beb"
      },
      "execution_count": 6,
      "outputs": [
        {
          "output_type": "execute_result",
          "data": {
            "text/plain": [
              "(60, 449)"
            ]
          },
          "metadata": {},
          "execution_count": 6
        }
      ]
    },
    {
      "cell_type": "code",
      "source": [
        "\"\"\"\n",
        "The algorithm is as follows:\n",
        "\n",
        "Mix the two datasets. Apply label that indicate each example's origin.\n",
        "Train a classifier on these merged data.\n",
        "Measure the classifier's error e on a held-out test set.\n",
        "Set PAD = 2 (1 − 2e)\n",
        "\"\"\""
      ],
      "metadata": {
        "colab": {
          "base_uri": "https://localhost:8080/",
          "height": 53
        },
        "id": "PxDZsiWlDZtM",
        "outputId": "f355f210-ecff-466d-d5e9-1592ff01fbb2"
      },
      "execution_count": null,
      "outputs": [
        {
          "output_type": "execute_result",
          "data": {
            "text/plain": [
              "\"\\nThe algorithm is as follows:\\n\\nMix the two datasets. Apply label that indicate each example's origin.\\nTrain a classifier on these merged data.\\nMeasure the classifier's error e on a held-out test set.\\nSet PAD = 2 (1 − 2e)\\n\""
            ],
            "application/vnd.google.colaboratory.intrinsic+json": {
              "type": "string"
            }
          },
          "metadata": {},
          "execution_count": 5
        }
      ]
    },
    {
      "cell_type": "code",
      "source": [
        "def proxy_a_distance(source_X, target_X, verbose=False):\n",
        "    \"\"\"\n",
        "    Compute the Proxy-A-Distance of a source/target representation\n",
        "    \"\"\"\n",
        "    nb_source = np.shape(source_X)[0]\n",
        "    nb_target = np.shape(target_X)[0]\n",
        "\n",
        "    if verbose:\n",
        "        print('PAD on', (nb_source, nb_target), 'examples')\n",
        "\n",
        "    # C_list = np.logspace(-7, 5, 10)\n",
        "    C_list = [0.0001, 0.000001]\n",
        "\n",
        "    if np.shape(source_X)[1] < np.shape(target_X)[1]:\n",
        "      half_source, half_target = int(nb_source/2), int(nb_target/2)\n",
        "      train_X = np.vstack((source_X.iloc[0:half_source, :np.shape(source_X)[1]], target_X.iloc[0:half_target, :np.shape(source_X)[1]]))\n",
        "      train_Y = np.hstack((np.zeros(half_source, dtype=int), np.ones(half_target, dtype=int)))\n",
        "\n",
        "      test_X = np.vstack((source_X.iloc[half_source:, :np.shape(source_X)[1]], target_X.iloc[half_target:, :np.shape(source_X)[1]]))\n",
        "      test_Y = np.hstack((np.zeros(nb_source - half_source, dtype=int), np.ones(nb_target - half_target, dtype=int)))\n",
        "\n",
        "    else:\n",
        "      half_source, half_target = int(nb_source/2), int(nb_target/2)\n",
        "      train_X = np.vstack((source_X.iloc[0:half_source, :np.shape(target_X)[1]], target_X.iloc[0:half_target, :np.shape(target_X)[1]]))\n",
        "      train_Y = np.hstack((np.zeros(half_source, dtype=int), np.ones(half_target, dtype=int)))  \n",
        "\n",
        "      test_X = np.vstack((source_X.iloc[half_source:, :np.shape(target_X)[1]], target_X.iloc[half_target:, :np.shape(target_X)[1]]))\n",
        "      test_Y = np.hstack((np.zeros(nb_source - half_source, dtype=int), np.ones(nb_target - half_target, dtype=int)))\n",
        "\n",
        "\n",
        "    best_risk = []\n",
        "    for C in C_list:\n",
        "        clf = svm.SVC(C=C, kernel='linear', verbose=False)\n",
        "        clf.fit(train_X, train_Y)\n",
        "\n",
        "        train_risk = np.mean(clf.predict(train_X) != train_Y)\n",
        "        test_risk = np.mean(clf.predict(test_X) != test_Y)\n",
        "\n",
        "        if verbose:\n",
        "            print('[ PAD C = %f ] train risk: %f  test risk: %f' % (C, train_risk, test_risk))\n",
        "\n",
        "        if test_risk > .5:\n",
        "            test_risk = 1. - test_risk\n",
        "\n",
        "        best_risk.append(2 * (1. - 2 * test_risk))\n",
        "\n",
        "    return best_risk"
      ],
      "metadata": {
        "id": "VetVSLFgDrO0"
      },
      "execution_count": 8,
      "outputs": []
    },
    {
      "cell_type": "code",
      "source": [
        "count = 1\n",
        "for dt in data:\n",
        "  for dtt in data:\n",
        "    if dt.shape[0] != dtt.shape[0]:\n",
        "      print(\"Combo: {}\".format(count))\n",
        "      count += 1\n",
        "      print(\"the PAD values are: {}\".format(proxy_a_distance(dt, dtt, verbose=True)))"
      ],
      "metadata": {
        "colab": {
          "base_uri": "https://localhost:8080/"
        },
        "id": "sPSCg2UNGoKV",
        "outputId": "6e4bdf97-6428-4b72-d749-638e73b42590"
      },
      "execution_count": 10,
      "outputs": [
        {
          "output_type": "stream",
          "name": "stdout",
          "text": [
            "Combo: 1\n",
            "PAD on (450, 60) examples\n",
            "[ PAD C = 0.000100 ] train risk: 0.117647  test risk: 0.117647\n",
            "[ PAD C = 0.000001 ] train risk: 0.117647  test risk: 0.117647\n",
            "the PAD values are: [1.5294117647058822, 1.5294117647058822]\n",
            "Combo: 2\n",
            "PAD on (450, 370) examples\n",
            "[ PAD C = 0.000100 ] train risk: 0.000000  test risk: 0.000000\n",
            "[ PAD C = 0.000001 ] train risk: 0.451220  test risk: 0.451220\n",
            "the PAD values are: [2.0, 0.19512195121951215]\n",
            "Combo: 3\n",
            "PAD on (450, 100) examples\n",
            "[ PAD C = 0.000100 ] train risk: 0.181818  test risk: 0.181818\n",
            "[ PAD C = 0.000001 ] train risk: 0.181818  test risk: 0.181818\n",
            "the PAD values are: [1.2727272727272727, 1.2727272727272727]\n",
            "Combo: 4\n",
            "PAD on (450, 16) examples\n",
            "[ PAD C = 0.000100 ] train risk: 0.034335  test risk: 0.034335\n",
            "[ PAD C = 0.000001 ] train risk: 0.034335  test risk: 0.034335\n",
            "the PAD values are: [1.8626609442060085, 1.8626609442060085]\n",
            "Combo: 5\n",
            "PAD on (60, 450) examples\n",
            "[ PAD C = 0.000100 ] train risk: 0.117647  test risk: 0.117647\n",
            "[ PAD C = 0.000001 ] train risk: 0.117647  test risk: 0.117647\n",
            "the PAD values are: [1.5294117647058822, 1.5294117647058822]\n",
            "Combo: 6\n",
            "PAD on (60, 370) examples\n",
            "[ PAD C = 0.000100 ] train risk: 0.000000  test risk: 0.000000\n",
            "[ PAD C = 0.000001 ] train risk: 0.139535  test risk: 0.139535\n",
            "the PAD values are: [2.0, 1.441860465116279]\n",
            "Combo: 7\n",
            "PAD on (60, 100) examples\n",
            "[ PAD C = 0.000100 ] train risk: 0.000000  test risk: 0.000000\n",
            "[ PAD C = 0.000001 ] train risk: 0.375000  test risk: 0.375000\n",
            "the PAD values are: [2.0, 0.5]\n",
            "Combo: 8\n",
            "PAD on (60, 16) examples\n",
            "[ PAD C = 0.000100 ] train risk: 0.210526  test risk: 0.210526\n",
            "[ PAD C = 0.000001 ] train risk: 0.210526  test risk: 0.210526\n",
            "the PAD values are: [1.1578947368421053, 1.1578947368421053]\n",
            "Combo: 9\n",
            "PAD on (370, 450) examples\n",
            "[ PAD C = 0.000100 ] train risk: 0.000000  test risk: 0.000000\n",
            "[ PAD C = 0.000001 ] train risk: 0.451220  test risk: 0.451220\n",
            "the PAD values are: [2.0, 0.19512195121951215]\n",
            "Combo: 10\n",
            "PAD on (370, 60) examples\n",
            "[ PAD C = 0.000100 ] train risk: 0.000000  test risk: 0.000000\n",
            "[ PAD C = 0.000001 ] train risk: 0.139535  test risk: 0.139535\n",
            "the PAD values are: [2.0, 1.441860465116279]\n",
            "Combo: 11\n",
            "PAD on (370, 100) examples\n",
            "[ PAD C = 0.000100 ] train risk: 0.004255  test risk: 0.004255\n",
            "[ PAD C = 0.000001 ] train risk: 0.212766  test risk: 0.212766\n",
            "the PAD values are: [1.9829787234042553, 1.148936170212766]\n",
            "Combo: 12\n",
            "PAD on (370, 16) examples\n",
            "[ PAD C = 0.000100 ] train risk: 0.041451  test risk: 0.041451\n",
            "[ PAD C = 0.000001 ] train risk: 0.041451  test risk: 0.041451\n",
            "the PAD values are: [1.83419689119171, 1.83419689119171]\n",
            "Combo: 13\n",
            "PAD on (100, 450) examples\n",
            "[ PAD C = 0.000100 ] train risk: 0.181818  test risk: 0.181818\n",
            "[ PAD C = 0.000001 ] train risk: 0.181818  test risk: 0.181818\n",
            "the PAD values are: [1.2727272727272727, 1.2727272727272727]\n",
            "Combo: 14\n",
            "PAD on (100, 60) examples\n",
            "[ PAD C = 0.000100 ] train risk: 0.000000  test risk: 0.000000\n",
            "[ PAD C = 0.000001 ] train risk: 0.375000  test risk: 0.375000\n",
            "the PAD values are: [2.0, 0.5]\n",
            "Combo: 15\n",
            "PAD on (100, 370) examples\n",
            "[ PAD C = 0.000100 ] train risk: 0.004255  test risk: 0.004255\n",
            "[ PAD C = 0.000001 ] train risk: 0.212766  test risk: 0.212766\n",
            "the PAD values are: [1.9829787234042553, 1.148936170212766]\n",
            "Combo: 16\n",
            "PAD on (100, 16) examples\n",
            "[ PAD C = 0.000100 ] train risk: 0.137931  test risk: 0.137931\n",
            "[ PAD C = 0.000001 ] train risk: 0.137931  test risk: 0.137931\n",
            "the PAD values are: [1.4482758620689655, 1.4482758620689655]\n",
            "Combo: 17\n",
            "PAD on (16, 450) examples\n",
            "[ PAD C = 0.000100 ] train risk: 0.034335  test risk: 0.034335\n",
            "[ PAD C = 0.000001 ] train risk: 0.034335  test risk: 0.034335\n",
            "the PAD values are: [1.8626609442060085, 1.8626609442060085]\n",
            "Combo: 18\n",
            "PAD on (16, 60) examples\n",
            "[ PAD C = 0.000100 ] train risk: 0.210526  test risk: 0.210526\n",
            "[ PAD C = 0.000001 ] train risk: 0.210526  test risk: 0.210526\n",
            "the PAD values are: [1.1578947368421053, 1.1578947368421053]\n",
            "Combo: 19\n",
            "PAD on (16, 370) examples\n",
            "[ PAD C = 0.000100 ] train risk: 0.041451  test risk: 0.041451\n",
            "[ PAD C = 0.000001 ] train risk: 0.041451  test risk: 0.041451\n",
            "the PAD values are: [1.83419689119171, 1.83419689119171]\n",
            "Combo: 20\n",
            "PAD on (16, 100) examples\n",
            "[ PAD C = 0.000100 ] train risk: 0.137931  test risk: 0.137931\n",
            "[ PAD C = 0.000001 ] train risk: 0.137931  test risk: 0.137931\n",
            "the PAD values are: [1.4482758620689655, 1.4482758620689655]\n"
          ]
        }
      ]
    },
    {
      "cell_type": "code",
      "source": [],
      "metadata": {
        "id": "jY63CiWcHdDZ"
      },
      "execution_count": null,
      "outputs": []
    }
  ]
}