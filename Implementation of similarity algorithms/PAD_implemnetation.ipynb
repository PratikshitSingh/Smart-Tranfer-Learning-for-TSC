{
  "nbformat": 4,
  "nbformat_minor": 0,
  "metadata": {
    "colab": {
      "provenance": []
    },
    "kernelspec": {
      "name": "python3",
      "display_name": "Python 3"
    },
    "language_info": {
      "name": "python"
    }
  },
  "cells": [
    {
      "cell_type": "code",
      "execution_count": 6,
      "metadata": {
        "id": "8Yu-7YYNBVcR"
      },
      "outputs": [],
      "source": [
        "from pandas import read_csv\n",
        "from matplotlib import pyplot\n",
        "import seaborn as sn\n",
        "import matplotlib.pyplot as plt\n",
        "\n",
        "import numpy as np\n",
        "from sklearn import svm"
      ]
    },
    {
      "cell_type": "code",
      "source": [
        "# MMD implementation\n",
        "# https://github.com/jindongwang/transferlearning/blob/master/code/distance/mmd_numpy_sklearn.py"
      ],
      "metadata": {
        "id": "Bl1Cn_YQHOhD"
      },
      "execution_count": 19,
      "outputs": []
    },
    {
      "cell_type": "code",
      "source": [
        "from google.colab import drive\n",
        "drive.mount('/content/drive/')"
      ],
      "metadata": {
        "colab": {
          "base_uri": "https://localhost:8080/"
        },
        "id": "f5MK3pRrDOTw",
        "outputId": "f8b7ba9e-b1d6-472e-ce95-9044975cb69d"
      },
      "execution_count": 2,
      "outputs": [
        {
          "output_type": "stream",
          "name": "stdout",
          "text": [
            "Mounted at /content/drive/\n"
          ]
        }
      ]
    },
    {
      "cell_type": "code",
      "source": [
        "import os\n",
        "os.chdir('/content/drive/My Drive/Colab Notebooks/Transfer learning project/UCR_TS_Archive_2015/')"
      ],
      "metadata": {
        "id": "9PZ7UHdHDSbn"
      },
      "execution_count": 3,
      "outputs": []
    },
    {
      "cell_type": "code",
      "source": [
        "dataset_list = ['50words/50words_TRAIN', 'Meat/Meat_TRAIN', 'HandOutlines/HandOutlines_TRAIN', \n",
        "                'InlineSkate/InlineSkate_TRAIN', 'DiatomSizeReduction/DiatomSizeReduction_TRAIN']\n",
        "\n",
        "data = []\n",
        "for data_name in dataset_list:\n",
        "  data.append(read_csv(data_name, header=None))"
      ],
      "metadata": {
        "id": "PbonBGZjDV5u"
      },
      "execution_count": 4,
      "outputs": []
    },
    {
      "cell_type": "code",
      "source": [
        "np.shape(data[1])"
      ],
      "metadata": {
        "colab": {
          "base_uri": "https://localhost:8080/"
        },
        "id": "mf60_cD8FtOy",
        "outputId": "28ca6283-663b-4ed4-f71c-3e1380bedac7"
      },
      "execution_count": 7,
      "outputs": [
        {
          "output_type": "execute_result",
          "data": {
            "text/plain": [
              "(60, 449)"
            ]
          },
          "metadata": {},
          "execution_count": 7
        }
      ]
    },
    {
      "cell_type": "code",
      "source": [
        "\"\"\"\n",
        "The algorithm is as follows:\n",
        "\n",
        "Mix the two datasets. Apply label that indicate each example's origin.\n",
        "Train a classifier on these merged data.\n",
        "Measure the classifier's error e on a held-out test set.\n",
        "Set PAD = 2 (1 − 2e)\n",
        "\"\"\""
      ],
      "metadata": {
        "colab": {
          "base_uri": "https://localhost:8080/",
          "height": 53
        },
        "id": "PxDZsiWlDZtM",
        "outputId": "f355f210-ecff-466d-d5e9-1592ff01fbb2"
      },
      "execution_count": 5,
      "outputs": [
        {
          "output_type": "execute_result",
          "data": {
            "text/plain": [
              "\"\\nThe algorithm is as follows:\\n\\nMix the two datasets. Apply label that indicate each example's origin.\\nTrain a classifier on these merged data.\\nMeasure the classifier's error e on a held-out test set.\\nSet PAD = 2 (1 − 2e)\\n\""
            ],
            "application/vnd.google.colaboratory.intrinsic+json": {
              "type": "string"
            }
          },
          "metadata": {},
          "execution_count": 5
        }
      ]
    },
    {
      "cell_type": "code",
      "source": [
        "def proxy_a_distance(source_X, target_X, verbose=False):\n",
        "    \"\"\"\n",
        "    Compute the Proxy-A-Distance of a source/target representation\n",
        "    \"\"\"\n",
        "    nb_source = np.shape(source_X)[0]\n",
        "    nb_target = np.shape(target_X)[0]\n",
        "\n",
        "    if verbose:\n",
        "        print('PAD on', (nb_source, nb_target), 'examples')\n",
        "\n",
        "    C_list = np.logspace(-7, 5, 10)\n",
        "    # C_list = [0.0001, 10]\n",
        "\n",
        "    if np.shape(source_X)[1] < np.shape(target_X)[1]:\n",
        "      half_source, half_target = int(nb_source/2), int(nb_target/2)\n",
        "      train_X = np.vstack((source_X.iloc[0:half_source, :np.shape(source_X)[1]], target_X.iloc[0:half_target, :np.shape(source_X)[1]]))\n",
        "      train_Y = np.hstack((np.zeros(half_source, dtype=int), np.ones(half_target, dtype=int)))\n",
        "\n",
        "      test_X = np.vstack((source_X.iloc[half_source:, :np.shape(source_X)[1]], target_X.iloc[half_target:, :np.shape(source_X)[1]]))\n",
        "      test_Y = np.hstack((np.zeros(nb_source - half_source, dtype=int), np.ones(nb_target - half_target, dtype=int)))\n",
        "\n",
        "    else:\n",
        "      half_source, half_target = int(nb_source/2), int(nb_target/2)\n",
        "      train_X = np.vstack((source_X.iloc[0:half_source, :np.shape(target_X)[1]], target_X.iloc[0:half_target, :np.shape(target_X)[1]]))\n",
        "      train_Y = np.hstack((np.zeros(half_source, dtype=int), np.ones(half_target, dtype=int)))  \n",
        "\n",
        "      test_X = np.vstack((source_X.iloc[half_source:, :np.shape(target_X)[1]], target_X.iloc[half_target:, :np.shape(target_X)[1]]))\n",
        "      test_Y = np.hstack((np.zeros(nb_source - half_source, dtype=int), np.ones(nb_target - half_target, dtype=int)))\n",
        "\n",
        "\n",
        "    best_risk = 1.0\n",
        "    for C in C_list:\n",
        "        clf = svm.SVC(C=C, kernel='linear', verbose=False)\n",
        "        clf.fit(train_X, train_Y)\n",
        "\n",
        "        train_risk = np.mean(clf.predict(train_X) != train_Y)\n",
        "        test_risk = np.mean(clf.predict(test_X) != test_Y)\n",
        "\n",
        "        if verbose:\n",
        "            print('[ PAD C = %f ] train risk: %f  test risk: %f' % (C, train_risk, test_risk))\n",
        "\n",
        "        if test_risk > .5:\n",
        "            test_risk = 1. - test_risk\n",
        "\n",
        "        best_risk = min(best_risk, test_risk)\n",
        "\n",
        "    return 2 * (1. - 2 * best_risk)"
      ],
      "metadata": {
        "id": "VetVSLFgDrO0"
      },
      "execution_count": 25,
      "outputs": []
    },
    {
      "cell_type": "code",
      "source": [
        "proxy_a_distance(data[1], data[2], verbose=True)"
      ],
      "metadata": {
        "colab": {
          "base_uri": "https://localhost:8080/"
        },
        "id": "xzzoAHo-FzdU",
        "outputId": "48b5ce29-0a21-451a-f2f7-5120999c75d7"
      },
      "execution_count": 26,
      "outputs": [
        {
          "output_type": "stream",
          "name": "stdout",
          "text": [
            "PAD on (60, 370) examples\n",
            "[ PAD C = 0.000000 ] train risk: 0.139535  test risk: 0.139535\n",
            "[ PAD C = 0.000002 ] train risk: 0.139535  test risk: 0.139535\n",
            "[ PAD C = 0.000046 ] train risk: 0.000000  test risk: 0.000000\n",
            "[ PAD C = 0.001000 ] train risk: 0.000000  test risk: 0.000000\n",
            "[ PAD C = 0.021544 ] train risk: 0.000000  test risk: 0.000000\n",
            "[ PAD C = 0.464159 ] train risk: 0.000000  test risk: 0.000000\n",
            "[ PAD C = 10.000000 ] train risk: 0.000000  test risk: 0.000000\n",
            "[ PAD C = 215.443469 ] train risk: 0.000000  test risk: 0.000000\n",
            "[ PAD C = 4641.588834 ] train risk: 0.000000  test risk: 0.000000\n",
            "[ PAD C = 100000.000000 ] train risk: 0.000000  test risk: 0.000000\n"
          ]
        },
        {
          "output_type": "execute_result",
          "data": {
            "text/plain": [
              "2.0"
            ]
          },
          "metadata": {},
          "execution_count": 26
        }
      ]
    },
    {
      "cell_type": "code",
      "source": [
        "proxy_a_distance(data[1], data[3], verbose=True)"
      ],
      "metadata": {
        "colab": {
          "base_uri": "https://localhost:8080/"
        },
        "id": "HfScpIntF5o5",
        "outputId": "564c4c52-b897-4736-b73c-d92a5e6d022e"
      },
      "execution_count": 27,
      "outputs": [
        {
          "output_type": "stream",
          "name": "stdout",
          "text": [
            "PAD on (60, 100) examples\n",
            "[ PAD C = 0.000000 ] train risk: 0.375000  test risk: 0.375000\n",
            "[ PAD C = 0.000002 ] train risk: 0.375000  test risk: 0.375000\n",
            "[ PAD C = 0.000046 ] train risk: 0.375000  test risk: 0.375000\n",
            "[ PAD C = 0.001000 ] train risk: 0.000000  test risk: 0.000000\n",
            "[ PAD C = 0.021544 ] train risk: 0.000000  test risk: 0.000000\n",
            "[ PAD C = 0.464159 ] train risk: 0.000000  test risk: 0.000000\n",
            "[ PAD C = 10.000000 ] train risk: 0.000000  test risk: 0.000000\n",
            "[ PAD C = 215.443469 ] train risk: 0.000000  test risk: 0.000000\n",
            "[ PAD C = 4641.588834 ] train risk: 0.000000  test risk: 0.000000\n",
            "[ PAD C = 100000.000000 ] train risk: 0.000000  test risk: 0.000000\n"
          ]
        },
        {
          "output_type": "execute_result",
          "data": {
            "text/plain": [
              "2.0"
            ]
          },
          "metadata": {},
          "execution_count": 27
        }
      ]
    },
    {
      "cell_type": "code",
      "source": [
        "proxy_a_distance(data[4], data[3], verbose=True)"
      ],
      "metadata": {
        "colab": {
          "base_uri": "https://localhost:8080/"
        },
        "id": "sPSCg2UNGoKV",
        "outputId": "8b7a1ae6-318b-4f72-ef2e-001d4d9d297f"
      },
      "execution_count": 28,
      "outputs": [
        {
          "output_type": "stream",
          "name": "stdout",
          "text": [
            "PAD on (16, 100) examples\n",
            "[ PAD C = 0.000000 ] train risk: 0.137931  test risk: 0.137931\n",
            "[ PAD C = 0.000002 ] train risk: 0.137931  test risk: 0.137931\n",
            "[ PAD C = 0.000046 ] train risk: 0.137931  test risk: 0.137931\n",
            "[ PAD C = 0.001000 ] train risk: 0.000000  test risk: 0.000000\n",
            "[ PAD C = 0.021544 ] train risk: 0.000000  test risk: 0.000000\n",
            "[ PAD C = 0.464159 ] train risk: 0.000000  test risk: 0.000000\n",
            "[ PAD C = 10.000000 ] train risk: 0.000000  test risk: 0.000000\n",
            "[ PAD C = 215.443469 ] train risk: 0.000000  test risk: 0.000000\n",
            "[ PAD C = 4641.588834 ] train risk: 0.000000  test risk: 0.000000\n",
            "[ PAD C = 100000.000000 ] train risk: 0.000000  test risk: 0.000000\n"
          ]
        },
        {
          "output_type": "execute_result",
          "data": {
            "text/plain": [
              "2.0"
            ]
          },
          "metadata": {},
          "execution_count": 28
        }
      ]
    },
    {
      "cell_type": "code",
      "source": [],
      "metadata": {
        "id": "jY63CiWcHdDZ"
      },
      "execution_count": null,
      "outputs": []
    }
  ]
}