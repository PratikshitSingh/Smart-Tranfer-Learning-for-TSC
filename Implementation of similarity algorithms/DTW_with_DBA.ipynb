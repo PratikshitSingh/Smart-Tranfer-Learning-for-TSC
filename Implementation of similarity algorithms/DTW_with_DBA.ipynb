{
  "cells": [
    {
      "cell_type": "code",
      "source": [
        "!pip3 install dtaidistance\n",
        "!pip3 install tslearn"
      ],
      "metadata": {
        "colab": {
          "base_uri": "https://localhost:8080/"
        },
        "id": "MaeI4X6rbrSq",
        "outputId": "2a55a827-d623-4343-a982-490c13e56ef3"
      },
      "execution_count": 2,
      "outputs": [
        {
          "output_type": "stream",
          "name": "stdout",
          "text": [
            "Looking in indexes: https://pypi.org/simple, https://us-python.pkg.dev/colab-wheels/public/simple/\n",
            "Requirement already satisfied: dtaidistance in /usr/local/lib/python3.9/dist-packages (2.3.10)\n",
            "Requirement already satisfied: numpy in /usr/local/lib/python3.9/dist-packages (from dtaidistance) (1.22.4)\n",
            "Looking in indexes: https://pypi.org/simple, https://us-python.pkg.dev/colab-wheels/public/simple/\n",
            "Requirement already satisfied: tslearn in /usr/local/lib/python3.9/dist-packages (0.5.3.2)\n",
            "Requirement already satisfied: scikit-learn in /usr/local/lib/python3.9/dist-packages (from tslearn) (1.2.2)\n",
            "Requirement already satisfied: numba in /usr/local/lib/python3.9/dist-packages (from tslearn) (0.56.4)\n",
            "Requirement already satisfied: numpy in /usr/local/lib/python3.9/dist-packages (from tslearn) (1.22.4)\n",
            "Requirement already satisfied: scipy in /usr/local/lib/python3.9/dist-packages (from tslearn) (1.10.1)\n",
            "Requirement already satisfied: joblib in /usr/local/lib/python3.9/dist-packages (from tslearn) (1.1.1)\n",
            "Requirement already satisfied: llvmlite<0.40,>=0.39.0dev0 in /usr/local/lib/python3.9/dist-packages (from numba->tslearn) (0.39.1)\n",
            "Requirement already satisfied: setuptools in /usr/local/lib/python3.9/dist-packages (from numba->tslearn) (63.4.3)\n",
            "Requirement already satisfied: threadpoolctl>=2.0.0 in /usr/local/lib/python3.9/dist-packages (from scikit-learn->tslearn) (3.1.0)\n"
          ]
        }
      ]
    },
    {
      "cell_type": "code",
      "execution_count": 3,
      "metadata": {
        "id": "YJrOX9dAZp_U"
      },
      "outputs": [],
      "source": [
        "from pandas import read_csv\n",
        "from matplotlib import pyplot\n",
        "from dtaidistance import dtw\n",
        "from tslearn.barycenters import dtw_barycenter_averaging\n",
        "\n",
        "import numpy as np\n",
        "import pandas as pd"
      ]
    },
    {
      "cell_type": "code",
      "source": [
        "from google.colab import drive\n",
        "drive.mount('/content/drive/')"
      ],
      "metadata": {
        "colab": {
          "base_uri": "https://localhost:8080/"
        },
        "id": "ud3DHjQgZwzz",
        "outputId": "c057eeb3-e1b8-46ae-a4cf-eff6581dbaf3"
      },
      "execution_count": 4,
      "outputs": [
        {
          "output_type": "stream",
          "name": "stdout",
          "text": [
            "Drive already mounted at /content/drive/; to attempt to forcibly remount, call drive.mount(\"/content/drive/\", force_remount=True).\n"
          ]
        }
      ]
    },
    {
      "cell_type": "code",
      "execution_count": 5,
      "metadata": {
        "id": "c9lt61CeZp_X"
      },
      "outputs": [],
      "source": [
        "import os\n",
        "os.chdir('/content/drive/My Drive/CS598HAN/UCR_TS_Archive_2015/')"
      ]
    },
    {
      "cell_type": "code",
      "source": [
        "sources = ['Meat/Meat_TRAIN', 'ECGFiveDays/ECGFiveDays_TRAIN', 'InlineSkate/InlineSkate_TRAIN',  'InlineSkate/InlineSkate_TRAIN',                   '50words/50words_TRAIN'] # 'HandOutlines/HandOutlines_TRAIN'\n",
        "targets = ['Wine/Wine_TRAIN', 'Wine/Wine_TRAIN',                  'Meat/Meat_TRAIN',             'DiatomSizeReduction/DiatomSizeReduction_TRAIN',    'DiatomSizeReduction/DiatomSizeReduction_TRAIN'] # 'ShapeletSim/ShapeletSim_TRAIN'"
      ],
      "metadata": {
        "id": "wxuIlTdjbDyZ"
      },
      "execution_count": 6,
      "outputs": []
    },
    {
      "cell_type": "markdown",
      "source": [
        "# Code for generating prototype for each class in a *dataset*"
      ],
      "metadata": {
        "id": "6lBdDggK5Wod"
      }
    },
    {
      "cell_type": "markdown",
      "source": [
        "# Dynamic Time Warping (DTW) with DBA\n",
        "#####https://dtaidistance.readthedocs.io/en/latest/usage/dtw.html"
      ],
      "metadata": {
        "id": "RX4Z9gMHcXjP"
      }
    },
    {
      "cell_type": "code",
      "source": [
        "def DBA(df_prototype_s, df_prototype_t):\n",
        "  for i in range(len(df_prototype_s)):\n",
        "    for j in range(len(df_prototype_t)):\n",
        "      ts1 = np.array(df_prototype_s.iloc[i])\n",
        "      ts2 = np.array(df_prototype_t.iloc[j])\n",
        "      d = dtw.distance_fast(ts1, ts2, use_pruning=True)\n",
        "      print(d)"
      ],
      "metadata": {
        "id": "y81lYIKMeWNQ"
      },
      "execution_count": 7,
      "outputs": []
    },
    {
      "cell_type": "code",
      "source": [
        "def generate_prototype(df_source, df_target):\n",
        "  #df_prototype_s = df_source.groupby(level=0).mean()\n",
        "  #df_prototype_t = df_target.groupby(level=0).mean()\n",
        "\n",
        "  df_prototype_s = {}\n",
        "  df_prototype_t = {}\n",
        "\n",
        "  for i in range(len(df_source)):\n",
        "    dfs_class                 = df_source.iloc[i].name\n",
        "    df_prototype_s[dfs_class] = []\n",
        "\n",
        "  for i in range(len(df_target)):\n",
        "    dft_class                 = df_target.iloc[i].name\n",
        "    df_prototype_t[dft_class] = []\n",
        "\n",
        "  for i in range(len(df_source)):\n",
        "    dfs                       = df_source.iloc[i]\n",
        "    dfs_class                 = df_source.iloc[i].name\n",
        "    df_prototype_s[dfs_class].append(dfs.to_numpy())\n",
        "\n",
        "  for i in range(len(df_target)):\n",
        "    dft                       = df_target.iloc[i]\n",
        "    dft_class                 = df_target.iloc[i].name\n",
        "    df_prototype_t[dft_class].append(dft.to_numpy())\n",
        "\n",
        "  source_barycenters  = {}  # len(df_prototype_s)\n",
        "  target_barycenters  = {}  # len(df_prototype_t)\n",
        "\n",
        "  for c in (df_prototype_s.keys()):\n",
        "    source_barycenters[c] = dtw_barycenter_averaging(df_prototype_s[c])\n",
        "\n",
        "  for c in (df_prototype_t.keys()):\n",
        "    target_barycenters[c] = dtw_barycenter_averaging(df_prototype_t[c])\n",
        "\n",
        "  min_dtw = float(\"inf\")\n",
        "  min_class = ()\n",
        "\n",
        "  for i, source_barycenter in source_barycenters.items():\n",
        "    for j, target_barycenter in target_barycenters.items():\n",
        "      # Calculate DTW distance\n",
        "      dtw_distance = dtw.distance(source_barycenter, target_barycenter)\n",
        "\n",
        "      # Update minimum DTW distance and corresponding class if necessary\n",
        "      if dtw_distance < min_dtw:\n",
        "          min_dtw = dtw_distance\n",
        "          min_class = (i, j)\n",
        "  print(\"Most similar class(source-target): \", min_class)\n",
        "  print(\"Minimum distance between them: \", min_dtw)\n",
        "  print(\"\\n\")"
      ],
      "metadata": {
        "id": "SUhRtp1eAodg"
      },
      "execution_count": 11,
      "outputs": []
    },
    {
      "cell_type": "markdown",
      "source": [
        "## Randomly chosen source and target dataset similarity measurement\n",
        "\n",
        "---\n"
      ],
      "metadata": {
        "id": "Oe0UcYluDsne"
      }
    },
    {
      "cell_type": "code",
      "source": [
        "for s, t in zip(sources, targets):\n",
        "  print(s, '-', t)\n",
        "  df_source = read_csv(s, header=None, index_col=0)\n",
        "  df_target = read_csv(t, header=None, index_col=0)\n",
        "  generate_prototype(df_source, df_target)"
      ],
      "metadata": {
        "colab": {
          "base_uri": "https://localhost:8080/"
        },
        "id": "7ozgdi2JM6fD",
        "outputId": "369c01c8-f484-4006-aa7a-a2d9cbbe56b4"
      },
      "execution_count": 12,
      "outputs": [
        {
          "output_type": "stream",
          "name": "stdout",
          "text": [
            "Meat/Meat_TRAIN - Wine/Wine_TRAIN\n",
            "Most similar class(source-target):  (2, 1)\n",
            "Minimum distance between them:  6.5469717781685\n",
            "\n",
            "\n",
            "ECGFiveDays/ECGFiveDays_TRAIN - Wine/Wine_TRAIN\n",
            "Most similar class(source-target):  (1, 1)\n",
            "Minimum distance between them:  10.422177100513005\n",
            "\n",
            "\n",
            "InlineSkate/InlineSkate_TRAIN - Meat/Meat_TRAIN\n",
            "Most similar class(source-target):  (4, 1)\n",
            "Minimum distance between them:  11.49071176679911\n",
            "\n",
            "\n",
            "InlineSkate/InlineSkate_TRAIN - DiatomSizeReduction/DiatomSizeReduction_TRAIN\n",
            "Most similar class(source-target):  (1, 3)\n",
            "Minimum distance between them:  4.931585785582251\n",
            "\n",
            "\n",
            "50words/50words_TRAIN - DiatomSizeReduction/DiatomSizeReduction_TRAIN\n",
            "Most similar class(source-target):  (49, 3)\n",
            "Minimum distance between them:  10.769732061619512\n",
            "\n",
            "\n"
          ]
        }
      ]
    },
    {
      "cell_type": "markdown",
      "source": [
        "## Interesting source-target pairs (with reasons for their selection)\n",
        "---\n",
        "\n",
        "\n",
        "\n",
        "1. RefrigerationDevices -> ShapeletSim (small size of training set)\n",
        "2. 50words -> HandOutliers (Relatedness to shapelets)\n",
        "3. WordsSynonyms -> HandOutliers (Relatedness to shapelets)\n",
        "4. Strawberry -> Meat (transfer learning accuracy variation)\n",
        "5. Beef -> Meat (transfer learning accuracy variation)\n",
        "\n",
        "\n"
      ],
      "metadata": {
        "id": "HACsmADnBY96"
      }
    },
    {
      "cell_type": "code",
      "source": [
        "df_source = read_csv('RefrigerationDevices/RefrigerationDevices_TRAIN', header=None, index_col=0)\n",
        "df_target = read_csv('ShapeletSim/ShapeletSim_TRAIN', header=None, index_col=0)\n",
        "generate_prototype(df_source, df_target)"
      ],
      "metadata": {
        "colab": {
          "base_uri": "https://localhost:8080/"
        },
        "id": "MsvYLntUAiU-",
        "outputId": "084d9f52-e957-4ca7-e9a0-63e98efeb484"
      },
      "execution_count": 11,
      "outputs": [
        {
          "output_type": "stream",
          "name": "stdout",
          "text": [
            "Most similar class(source-target):  (1, 1)\n",
            "Minimum distance between them:  12.555812838330903\n"
          ]
        }
      ]
    },
    {
      "cell_type": "code",
      "source": [
        "df_source = read_csv('Car/Car_TRAIN', header=None, index_col=0)\n",
        "df_target = read_csv('ShapeletSim/ShapeletSim_TRAIN', header=None, index_col=0)\n",
        "generate_prototype(df_source, df_target)"
      ],
      "metadata": {
        "colab": {
          "base_uri": "https://localhost:8080/"
        },
        "id": "BXyNImJkIDXb",
        "outputId": "cda36888-7ed9-418d-d10a-d04ce5f6a3e9"
      },
      "execution_count": 15,
      "outputs": [
        {
          "output_type": "stream",
          "name": "stdout",
          "text": [
            "Most similar class(source-target):  (2, 1)\n",
            "Minimum distance between them:  16.738063197450185\n",
            "\n",
            "\n"
          ]
        }
      ]
    },
    {
      "cell_type": "markdown",
      "source": [
        "Caution - Do not run: Memory crash"
      ],
      "metadata": {
        "id": "XVVGiRxSD7rT"
      }
    },
    {
      "cell_type": "code",
      "source": [
        "df_source = read_csv('50words/50words_TRAIN', header=None, index_col=0)\n",
        "df_target = read_csv('HandOutlines/HandOutlines_TRAIN', header=None, index_col=0)\n",
        "generate_prototype(df_source, df_target)"
      ],
      "metadata": {
        "id": "pHyszO-AC0P6"
      },
      "execution_count": null,
      "outputs": []
    },
    {
      "cell_type": "code",
      "source": [
        "df_source = read_csv('WordsSynonyms/WordsSynonyms_TRAIN', header=None, index_col=0)\n",
        "df_target = read_csv('HandOutlines/HandOutlines_TRAIN', header=None, index_col=0)\n",
        "generate_prototype(df_source, df_target)"
      ],
      "metadata": {
        "id": "klASrQLjDJJ9"
      },
      "execution_count": null,
      "outputs": []
    },
    {
      "cell_type": "code",
      "source": [
        "df_source = read_csv('Strawberry/Strawberry_TRAIN', header=None, index_col=0)\n",
        "df_target = read_csv('Meat/Meat_TRAIN', header=None, index_col=0)\n",
        "generate_prototype(df_source, df_target)"
      ],
      "metadata": {
        "colab": {
          "base_uri": "https://localhost:8080/"
        },
        "id": "VF5IZvszDOv_",
        "outputId": "cf646f4a-e786-441c-c83f-2c38ebca681d"
      },
      "execution_count": 13,
      "outputs": [
        {
          "output_type": "stream",
          "name": "stdout",
          "text": [
            "Most similar class(source-target):  (2, 3)\n",
            "Minimum distance between them:  2.1764866573784327\n",
            "\n",
            "\n"
          ]
        }
      ]
    },
    {
      "cell_type": "code",
      "source": [
        "df_source = read_csv('Beef/Beef_TRAIN', header=None, index_col=0)\n",
        "df_target = read_csv('Meat/Meat_TRAIN', header=None, index_col=0)\n",
        "generate_prototype(df_source, df_target)"
      ],
      "metadata": {
        "colab": {
          "base_uri": "https://localhost:8080/"
        },
        "id": "FPwakGJPDar1",
        "outputId": "f9547fa5-e99f-4bad-f5e4-e801b9c4c5fe"
      },
      "execution_count": 14,
      "outputs": [
        {
          "output_type": "stream",
          "name": "stdout",
          "text": [
            "Most similar class(source-target):  (3, 1)\n",
            "Minimum distance between them:  3.738592244173742\n",
            "\n",
            "\n"
          ]
        }
      ]
    },
    {
      "cell_type": "markdown",
      "source": [
        "# Visualization"
      ],
      "metadata": {
        "id": "kOwTBb9nMkgc"
      }
    },
    {
      "cell_type": "markdown",
      "source": [
        "### With all time series"
      ],
      "metadata": {
        "id": "tiialmhSeBj9"
      }
    },
    {
      "cell_type": "code",
      "source": [
        "for i in range(len(df_source)):\n",
        "    ts                = df_source.iloc[i]\n",
        "    ts                = ts.cumsum()\n",
        "    ts.plot()"
      ],
      "metadata": {
        "colab": {
          "base_uri": "https://localhost:8080/",
          "height": 265
        },
        "id": "iT1A-kVkTdQf",
        "outputId": "0e3bf446-47b6-4819-efa3-066eadb464d3"
      },
      "execution_count": null,
      "outputs": [
        {
          "output_type": "display_data",
          "data": {
            "text/plain": [
              "<Figure size 432x288 with 1 Axes>"
            ],
            "image/png": "[encoded data removed]"
          },
          "metadata": {
            "needs_background": "light"
          }
        }
      ]
    },
    {
      "cell_type": "code",
      "source": [
        "for i in range(len(df_target)):\n",
        "    ts                = df_target.iloc[i]\n",
        "    ts                = ts.cumsum()\n",
        "    ts.plot()"
      ],
      "metadata": {
        "colab": {
          "base_uri": "https://localhost:8080/",
          "height": 265
        },
        "id": "FrAMGZ__ddGc",
        "outputId": "802c55fd-1b44-4c30-e9ee-a4294747d183"
      },
      "execution_count": null,
      "outputs": [
        {
          "output_type": "display_data",
          "data": {
            "text/plain": [
              "<Figure size 432x288 with 1 Axes>"
            ],
            "image/png": "[encoded data removed]"
          },
          "metadata": {
            "needs_background": "light"
          }
        }
      ]
    },
    {
      "cell_type": "markdown",
      "source": [
        "### With prototypes"
      ],
      "metadata": {
        "id": "dsawn3zCMp5y"
      }
    },
    {
      "cell_type": "code",
      "source": [
        "for i in range(len(df_prototype_s)):\n",
        "    ts                = df_prototype_s.iloc[i]\n",
        "    ts                = ts.cumsum()\n",
        "    ts.plot()"
      ],
      "metadata": {
        "colab": {
          "base_uri": "https://localhost:8080/",
          "height": 265
        },
        "id": "vBPTvwm_TW3G",
        "outputId": "c28fa532-7bd9-43d6-9f95-aa7e101c0e53"
      },
      "execution_count": null,
      "outputs": [
        {
          "output_type": "display_data",
          "data": {
            "text/plain": [
              "<Figure size 432x288 with 1 Axes>"
            ],
            "image/png": "[encoded data removed]"
          },
          "metadata": {
            "needs_background": "light"
          }
        }
      ]
    },
    {
      "cell_type": "code",
      "source": [
        "for i in range(len(df_prototype_t)):\n",
        "    ts                = df_prototype_t.iloc[i]\n",
        "    ts                = ts.cumsum()\n",
        "    ts.plot()"
      ],
      "metadata": {
        "colab": {
          "base_uri": "https://localhost:8080/",
          "height": 265
        },
        "id": "Rmi1HHEad8PB",
        "outputId": "aaca0708-0bbc-4913-9f8c-1d04d35e7433"
      },
      "execution_count": null,
      "outputs": [
        {
          "output_type": "display_data",
          "data": {
            "text/plain": [
              "<Figure size 432x288 with 1 Axes>"
            ],
            "image/png": "[encoded data removed]"
          },
          "metadata": {
            "needs_background": "light"
          }
        }
      ]
    }
  ],
  "metadata": {
    "kernelspec": {
      "display_name": "pytorch",
      "language": "python",
      "name": "python3"
    },
    "language_info": {
      "codemirror_mode": {
        "name": "ipython",
        "version": 3
      },
      "file_extension": ".py",
      "mimetype": "text/x-python",
      "name": "python",
      "nbconvert_exporter": "python",
      "pygments_lexer": "ipython3",
      "version": "3.10.8"
    },
    "orig_nbformat": 4,
    "vscode": {
      "interpreter": {
        "hash": "736147612112090e19aebe6736b57293588dd4c2950997ac48cc8e27568fc8f1"
      }
    },
    "colab": {
      "provenance": [],
      "collapsed_sections": [
        "tiialmhSeBj9",
        "dsawn3zCMp5y"
      ]
    },
    "gpuClass": "standard"
  },
  "nbformat": 4,
  "nbformat_minor": 0
}