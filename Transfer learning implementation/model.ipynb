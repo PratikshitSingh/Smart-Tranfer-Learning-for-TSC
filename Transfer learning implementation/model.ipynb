{
  "cells": [
    {
      "cell_type": "markdown",
      "metadata": {
        "id": "view-in-github",
        "colab_type": "text"
      },
      "source": [
        "<a href=\"https://colab.research.google.com/github/PratikshitSingh/Smart-Tranfer-Learning-for-TSC/blob/main/Transfer%20learning%20implementation/model.ipynb\" target=\"_parent\"><img src=\"https://colab.research.google.com/assets/colab-badge.svg\" alt=\"Open In Colab\"/></a>"
      ]
    },
    {
      "cell_type": "markdown",
      "metadata": {
        "id": "q-XIlEhXZpZK"
      },
      "source": [
        "# Distance/Similarity measure"
      ]
    },
    {
      "cell_type": "code",
      "execution_count": null,
      "metadata": {
        "colab": {
          "base_uri": "https://localhost:8080/"
        },
        "id": "MaeI4X6rbrSq",
        "outputId": "fe3825ee-8fc5-42d7-b5a7-58f3355783b9"
      },
      "outputs": [
        {
          "name": "stdout",
          "output_type": "stream",
          "text": [
            "Looking in indexes: https://pypi.org/simple, https://us-python.pkg.dev/colab-wheels/public/simple/\n",
            "Collecting dtaidistance\n",
            "  Downloading dtaidistance-2.3.10-cp39-cp39-manylinux_2_17_x86_64.manylinux2014_x86_64.whl (2.4 MB)\n",
            "\u001b[2K     \u001b[90m━━━━━━━━━━━━━━━━━━━━━━━━━━━━━━━━━━━━━━━━\u001b[0m \u001b[32m2.4/2.4 MB\u001b[0m \u001b[31m26.1 MB/s\u001b[0m eta \u001b[36m0:00:00\u001b[0m\n",
            "\u001b[?25hRequirement already satisfied: numpy in /usr/local/lib/python3.9/dist-packages (from dtaidistance) (1.22.4)\n",
            "Installing collected packages: dtaidistance\n",
            "Successfully installed dtaidistance-2.3.10\n",
            "Looking in indexes: https://pypi.org/simple, https://us-python.pkg.dev/colab-wheels/public/simple/\n",
            "Collecting tslearn\n",
            "  Downloading tslearn-0.5.3.2-py3-none-any.whl (358 kB)\n",
            "\u001b[2K     \u001b[90m━━━━━━━━━━━━━━━━━━━━━━━━━━━━━━━━━━━━━━━\u001b[0m \u001b[32m358.2/358.2 kB\u001b[0m \u001b[31m5.5 MB/s\u001b[0m eta \u001b[36m0:00:00\u001b[0m\n",
            "\u001b[?25hRequirement already satisfied: numba in /usr/local/lib/python3.9/dist-packages (from tslearn) (0.56.4)\n",
            "Requirement already satisfied: joblib in /usr/local/lib/python3.9/dist-packages (from tslearn) (1.1.1)\n",
            "Requirement already satisfied: numpy in /usr/local/lib/python3.9/dist-packages (from tslearn) (1.22.4)\n",
            "Requirement already satisfied: scikit-learn in /usr/local/lib/python3.9/dist-packages (from tslearn) (1.2.2)\n",
            "Requirement already satisfied: scipy in /usr/local/lib/python3.9/dist-packages (from tslearn) (1.10.1)\n",
            "Requirement already satisfied: setuptools in /usr/local/lib/python3.9/dist-packages (from numba->tslearn) (67.6.1)\n",
            "Requirement already satisfied: llvmlite<0.40,>=0.39.0dev0 in /usr/local/lib/python3.9/dist-packages (from numba->tslearn) (0.39.1)\n",
            "Requirement already satisfied: threadpoolctl>=2.0.0 in /usr/local/lib/python3.9/dist-packages (from scikit-learn->tslearn) (3.1.0)\n",
            "Installing collected packages: tslearn\n",
            "Successfully installed tslearn-0.5.3.2\n"
          ]
        }
      ],
      "source": [
        "!pip3 install dtaidistance\n",
        "!pip3 install tslearn"
      ]
    },
    {
      "cell_type": "code",
      "execution_count": null,
      "metadata": {
        "id": "YJrOX9dAZp_U"
      },
      "outputs": [],
      "source": [
        "from pandas import read_csv\n",
        "from matplotlib import pyplot\n",
        "from dtaidistance import dtw\n",
        "from tslearn.barycenters import dtw_barycenter_averaging\n",
        "\n",
        "import numpy as np\n",
        "import pandas as pd"
      ]
    },
    {
      "cell_type": "code",
      "execution_count": null,
      "metadata": {
        "colab": {
          "base_uri": "https://localhost:8080/"
        },
        "id": "ud3DHjQgZwzz",
        "outputId": "5e5df2de-5529-44bf-bda7-0699f1262b51"
      },
      "outputs": [
        {
          "name": "stdout",
          "output_type": "stream",
          "text": [
            "Mounted at /content/drive/\n"
          ]
        }
      ],
      "source": [
        "from google.colab import drive\n",
        "drive.mount('/content/drive/')"
      ]
    },
    {
      "cell_type": "code",
      "execution_count": null,
      "metadata": {
        "id": "c9lt61CeZp_X"
      },
      "outputs": [],
      "source": [
        "import os\n",
        "os.chdir('/content/drive/My Drive/CS598HAN/UCR_TS_Archive_2015/')"
      ]
    },
    {
      "cell_type": "code",
      "execution_count": null,
      "metadata": {
        "id": "wxuIlTdjbDyZ"
      },
      "outputs": [],
      "source": [
        "sources = ['Meat/Meat_TRAIN', 'ECGFiveDays/ECGFiveDays_TRAIN', 'InlineSkate/InlineSkate_TRAIN',  'InlineSkate/InlineSkate_TRAIN',                   '50words/50words_TRAIN'] # 'HandOutlines/HandOutlines_TRAIN'\n",
        "targets = ['Wine/Wine_TRAIN', 'Wine/Wine_TRAIN',                  'Meat/Meat_TRAIN',             'DiatomSizeReduction/DiatomSizeReduction_TRAIN',    'DiatomSizeReduction/DiatomSizeReduction_TRAIN'] # 'ShapeletSim/ShapeletSim_TRAIN'"
      ]
    },
    {
      "cell_type": "markdown",
      "metadata": {
        "id": "6lBdDggK5Wod"
      },
      "source": [
        "# Code for generating prototype for each class in a *dataset*"
      ]
    },
    {
      "cell_type": "markdown",
      "metadata": {
        "id": "RX4Z9gMHcXjP"
      },
      "source": [
        "# Dynamic Time Warping (DTW) with DBA\n",
        "#####https://dtaidistance.readthedocs.io/en/latest/usage/dtw.html"
      ]
    },
    {
      "cell_type": "code",
      "execution_count": null,
      "metadata": {
        "id": "SUhRtp1eAodg"
      },
      "outputs": [],
      "source": [
        "def DBA(df_source, df_target):\n",
        "\n",
        "  df_prototype_s = {}\n",
        "  df_prototype_t = {}\n",
        "\n",
        "  for i in range(len(df_source)):\n",
        "    dfs_class                 = df_source.iloc[i].name\n",
        "    df_prototype_s[dfs_class] = []\n",
        "\n",
        "  for i in range(len(df_target)):\n",
        "    dft_class                 = df_target.iloc[i].name\n",
        "    df_prototype_t[dft_class] = []\n",
        "\n",
        "  for i in range(len(df_source)):\n",
        "    dfs                       = df_source.iloc[i]\n",
        "    dfs_class                 = df_source.iloc[i].name\n",
        "    df_prototype_s[dfs_class].append(dfs.to_numpy())\n",
        "\n",
        "  for i in range(len(df_target)):\n",
        "    dft                       = df_target.iloc[i]\n",
        "    dft_class                 = df_target.iloc[i].name\n",
        "    df_prototype_t[dft_class].append(dft.to_numpy())\n",
        "\n",
        "  source_barycenters  = {}  # len(df_prototype_s)\n",
        "  target_barycenters  = {}  # len(df_prototype_t)\n",
        "\n",
        "  for c in (df_prototype_s.keys()):\n",
        "    source_barycenters[c] = dtw_barycenter_averaging(df_prototype_s[c])\n",
        "\n",
        "  for c in (df_prototype_t.keys()):\n",
        "    target_barycenters[c] = dtw_barycenter_averaging(df_prototype_t[c])\n",
        "\n",
        "  min_dtw = float(\"inf\")\n",
        "  min_class = ()\n",
        "\n",
        "  for i, source_barycenter in source_barycenters.items():\n",
        "    for j, target_barycenter in target_barycenters.items():\n",
        "      # Calculate DTW distance\n",
        "      dtw_distance = dtw.distance(source_barycenter, target_barycenter)\n",
        "\n",
        "      # Update minimum DTW distance and corresponding class if necessary\n",
        "      if dtw_distance < min_dtw:\n",
        "          min_dtw = dtw_distance\n",
        "          min_class = (i, j)\n",
        "  print(\"Most similar class(source-target): \", min_class)\n",
        "  print(\"Minimum distance between them: \", min_dtw)\n",
        "  print(\"\\n\")"
      ]
    },
    {
      "cell_type": "markdown",
      "metadata": {
        "id": "Oe0UcYluDsne"
      },
      "source": [
        "## Randomly chosen source and target dataset similarity measurement\n",
        "\n",
        "---\n"
      ]
    },
    {
      "cell_type": "code",
      "execution_count": null,
      "metadata": {
        "id": "7ozgdi2JM6fD"
      },
      "outputs": [],
      "source": [
        "for s, t in zip(sources, targets):\n",
        "  print(s, '-', t)\n",
        "  df_source = read_csv(s, header=None, index_col=0)\n",
        "  df_target = read_csv(t, header=None, index_col=0)\n",
        "  DBA(df_source, df_target)"
      ]
    },
    {
      "cell_type": "markdown",
      "metadata": {
        "id": "HACsmADnBY96"
      },
      "source": [
        "## Interesting source-target pairs (with reasons for their selection)\n",
        "---\n",
        "\n",
        "\n",
        "\n",
        "1. RefrigerationDevices -> ShapeletSim (small size of training set)\n",
        "2. 50words -> HandOutliers (Relatedness to shapelets)\n",
        "3. WordsSynonyms -> HandOutliers (Relatedness to shapelets)\n",
        "4. Strawberry -> Meat (transfer learning accuracy variation)\n",
        "5. Beef -> Meat (transfer learning accuracy variation)\n",
        "\n",
        "\n"
      ]
    },
    {
      "cell_type": "code",
      "execution_count": null,
      "metadata": {
        "colab": {
          "base_uri": "https://localhost:8080/"
        },
        "id": "MsvYLntUAiU-",
        "outputId": "084d9f52-e957-4ca7-e9a0-63e98efeb484"
      },
      "outputs": [
        {
          "name": "stdout",
          "output_type": "stream",
          "text": [
            "Most similar class(source-target):  (1, 1)\n",
            "Minimum distance between them:  12.555812838330903\n"
          ]
        }
      ],
      "source": [
        "df_source = read_csv('RefrigerationDevices/RefrigerationDevices_TRAIN', header=None, index_col=0)\n",
        "df_target = read_csv('ShapeletSim/ShapeletSim_TRAIN', header=None, index_col=0)\n",
        "DBA(df_source, df_target)"
      ]
    },
    {
      "cell_type": "code",
      "execution_count": null,
      "metadata": {
        "colab": {
          "base_uri": "https://localhost:8080/"
        },
        "id": "BXyNImJkIDXb",
        "outputId": "cda36888-7ed9-418d-d10a-d04ce5f6a3e9"
      },
      "outputs": [
        {
          "name": "stdout",
          "output_type": "stream",
          "text": [
            "Most similar class(source-target):  (2, 1)\n",
            "Minimum distance between them:  16.738063197450185\n",
            "\n",
            "\n"
          ]
        }
      ],
      "source": [
        "df_source = read_csv('Car/Car_TRAIN', header=None, index_col=0)\n",
        "df_target = read_csv('ShapeletSim/ShapeletSim_TRAIN', header=None, index_col=0)\n",
        "DBA(df_source, df_target)"
      ]
    },
    {
      "cell_type": "markdown",
      "metadata": {
        "id": "XVVGiRxSD7rT"
      },
      "source": [
        "Caution - Do not run: Memory crash"
      ]
    },
    {
      "cell_type": "code",
      "execution_count": null,
      "metadata": {
        "id": "pHyszO-AC0P6"
      },
      "outputs": [],
      "source": [
        "df_source = read_csv('50words/50words_TRAIN', header=None, index_col=0)\n",
        "df_target = read_csv('HandOutlines/HandOutlines_TRAIN', header=None, index_col=0)\n",
        "DBA(df_source, df_target)"
      ]
    },
    {
      "cell_type": "code",
      "execution_count": null,
      "metadata": {
        "id": "klASrQLjDJJ9"
      },
      "outputs": [],
      "source": [
        "df_source = read_csv('WordsSynonyms/WordsSynonyms_TRAIN', header=None, index_col=0)\n",
        "df_target = read_csv('HandOutlines/HandOutlines_TRAIN', header=None, index_col=0)\n",
        "DBA(df_source, df_target)"
      ]
    },
    {
      "cell_type": "code",
      "execution_count": null,
      "metadata": {
        "colab": {
          "base_uri": "https://localhost:8080/"
        },
        "id": "VF5IZvszDOv_",
        "outputId": "cf646f4a-e786-441c-c83f-2c38ebca681d"
      },
      "outputs": [
        {
          "name": "stdout",
          "output_type": "stream",
          "text": [
            "Most similar class(source-target):  (2, 3)\n",
            "Minimum distance between them:  2.1764866573784327\n",
            "\n",
            "\n"
          ]
        }
      ],
      "source": [
        "df_source = read_csv('Strawberry/Strawberry_TRAIN', header=None, index_col=0)\n",
        "df_target = read_csv('Meat/Meat_TRAIN', header=None, index_col=0)\n",
        "DBA(df_source, df_target)"
      ]
    },
    {
      "cell_type": "markdown",
      "metadata": {
        "id": "DJ7NsWCoLm-u"
      },
      "source": [
        "Beef -> Meat"
      ]
    },
    {
      "cell_type": "code",
      "execution_count": null,
      "metadata": {
        "colab": {
          "base_uri": "https://localhost:8080/"
        },
        "id": "FPwakGJPDar1",
        "outputId": "8465b89d-aad0-4b56-e05e-0adf5839b41b"
      },
      "outputs": [
        {
          "name": "stdout",
          "output_type": "stream",
          "text": [
            "Most similar class(source-target):  (3, 1)\n",
            "Minimum distance between them:  3.738592244173742\n",
            "\n",
            "\n",
            "Most similar class(source-target):  (1, 3)\n",
            "Minimum distance between them:  3.738592244173742\n",
            "\n",
            "\n"
          ]
        }
      ],
      "source": [
        "df_source = read_csv('Beef/Beef_TRAIN', header=None, index_col=0)\n",
        "df_target = read_csv('Meat/Meat_TRAIN', header=None, index_col=0)\n",
        "DBA(df_source, df_target)\n",
        "\n",
        "# Checking if our measure is symmetric\n",
        "df_source = read_csv('Meat/Meat_TRAIN', header=None, index_col=0)\n",
        "df_target = read_csv('Beef/Beef_TRAIN', header=None, index_col=0)\n",
        "DBA(df_source, df_target)"
      ]
    },
    {
      "cell_type": "markdown",
      "metadata": {
        "id": "V56H6PgNLhFq"
      },
      "source": [
        "RefrigerationDevices -> ShapeletSim"
      ]
    },
    {
      "cell_type": "code",
      "execution_count": null,
      "metadata": {
        "colab": {
          "base_uri": "https://localhost:8080/"
        },
        "id": "odAZk_NJKXvF",
        "outputId": "d3a3462c-4500-448e-9da1-a793054f9109"
      },
      "outputs": [
        {
          "name": "stdout",
          "output_type": "stream",
          "text": [
            "Most similar class(source-target):  (1, 1)\n",
            "Minimum distance between them:  12.555812838330903\n",
            "\n",
            "\n",
            "Most similar class(source-target):  (1, 1)\n",
            "Minimum distance between them:  12.555812838330903\n",
            "\n",
            "\n"
          ]
        }
      ],
      "source": [
        "df_source = read_csv('RefrigerationDevices/RefrigerationDevices_TRAIN', header=None, index_col=0)\n",
        "df_target = read_csv('ShapeletSim/ShapeletSim_TRAIN', header=None, index_col=0)\n",
        "DBA(df_source, df_target)\n",
        "\n",
        "# Checking if our measure is symmetric\n",
        "df_source = read_csv('ShapeletSim/ShapeletSim_TRAIN', header=None, index_col=0)\n",
        "df_target = read_csv('RefrigerationDevices/RefrigerationDevices_TRAIN', header=None, index_col=0)\n",
        "DBA(df_source, df_target)"
      ]
    },
    {
      "cell_type": "markdown",
      "metadata": {
        "id": "qhWCPJKKLqR7"
      },
      "source": [
        "\n",
        "*   Closest NN to DiatomSizeReduction = ShapesAll\n",
        "*   ShapesAll -> DiatomSizeReduction\n",
        "\n"
      ]
    },
    {
      "cell_type": "code",
      "execution_count": null,
      "metadata": {
        "colab": {
          "base_uri": "https://localhost:8080/"
        },
        "id": "KuTxVbLeL2KE",
        "outputId": "eab2565a-d82d-43c7-e09e-a02e30cfe589"
      },
      "outputs": [
        {
          "name": "stdout",
          "output_type": "stream",
          "text": [
            "Most similar class(source-target):  (58, 3)\n",
            "Minimum distance between them:  0.3778433263677064\n",
            "\n",
            "\n"
          ]
        }
      ],
      "source": [
        "df_source = read_csv('ShapesAll/ShapesAll_TRAIN', header=None, index_col=0)\n",
        "df_target = read_csv('DiatomSizeReduction/DiatomSizeReduction_TRAIN', header=None, index_col=0)\n",
        "DBA(df_source, df_target)"
      ]
    },
    {
      "cell_type": "markdown",
      "metadata": {
        "id": "6GcpkhqhLwn6"
      },
      "source": [
        "\n",
        "*   2nd NN to DiatomSizeReduction = Adiac\n",
        "*   Adiac -> DiatomSizeReduction\n",
        "\n"
      ]
    },
    {
      "cell_type": "code",
      "execution_count": null,
      "metadata": {
        "colab": {
          "base_uri": "https://localhost:8080/"
        },
        "id": "PQCJeGAOL2x6",
        "outputId": "c8c77726-27b0-4471-a8a5-5fa0d27d7e6e"
      },
      "outputs": [
        {
          "name": "stdout",
          "output_type": "stream",
          "text": [
            "Most similar class(source-target):  (22, 3)\n",
            "Minimum distance between them:  0.4045909598388119\n",
            "\n",
            "\n"
          ]
        }
      ],
      "source": [
        "df_source = read_csv('Adiac/Adiac_TRAIN', header=None, index_col=0)\n",
        "df_target = read_csv('DiatomSizeReduction/DiatomSizeReduction_TRAIN', header=None, index_col=0)\n",
        "DBA(df_source, df_target)"
      ]
    },
    {
      "cell_type": "markdown",
      "metadata": {
        "id": "oCB2Srd2MPgK"
      },
      "source": [
        "\n",
        "\n",
        "*   Closest NN to Wine = Beef\n",
        "*   Beef -> Wine\n",
        "\n"
      ]
    },
    {
      "cell_type": "code",
      "execution_count": null,
      "metadata": {
        "colab": {
          "base_uri": "https://localhost:8080/"
        },
        "id": "3qCVVLq_Mbng",
        "outputId": "6815a9f2-6cc5-4cce-bcfb-94cc44cc07b0"
      },
      "outputs": [
        {
          "name": "stdout",
          "output_type": "stream",
          "text": [
            "Most similar class(source-target):  (4, 1)\n",
            "Minimum distance between them:  5.365530898885693\n",
            "\n",
            "\n"
          ]
        }
      ],
      "source": [
        "df_source = read_csv('Beef/Beef_TRAIN', header=None, index_col=0)\n",
        "df_target = read_csv('Wine/Wine_TRAIN', header=None, index_col=0)\n",
        "DBA(df_source, df_target)"
      ]
    },
    {
      "cell_type": "markdown",
      "metadata": {
        "id": "yhHtrwSwMZ-h"
      },
      "source": [
        "\n",
        "*   2nd NN to Wine = uWaveGestureLibrary_Y\n",
        "*   uWaveGestureLibrary_Y -> Wine\n",
        "\n"
      ]
    },
    {
      "cell_type": "code",
      "execution_count": null,
      "metadata": {
        "colab": {
          "base_uri": "https://localhost:8080/"
        },
        "id": "AvkbHfT3McVB",
        "outputId": "75148624-972e-4c07-b456-8dfaae0b75ba"
      },
      "outputs": [
        {
          "name": "stdout",
          "output_type": "stream",
          "text": [
            "Most similar class(source-target):  (5, 1)\n",
            "Minimum distance between them:  9.278547087494417\n",
            "\n",
            "\n"
          ]
        }
      ],
      "source": [
        "df_source = read_csv('UWaveGestureLibraryAll/UWaveGestureLibraryAll_TRAIN', header=None, index_col=0)\n",
        "df_target = read_csv('Wine/Wine_TRAIN', header=None, index_col=0)\n",
        "DBA(df_source, df_target)"
      ]
    },
    {
      "cell_type": "markdown",
      "metadata": {
        "id": "-tyJWaHhb_Lu"
      },
      "source": [
        "MALLAT -> OliveOil"
      ]
    },
    {
      "cell_type": "code",
      "execution_count": null,
      "metadata": {
        "colab": {
          "base_uri": "https://localhost:8080/"
        },
        "id": "I_T74YeqaCTy",
        "outputId": "4eebdeb0-8bc3-4a20-f4f7-29f1214a40ea"
      },
      "outputs": [
        {
          "name": "stdout",
          "output_type": "stream",
          "text": [
            "Most similar class(source-target):  (2, 4)\n",
            "Minimum distance between them:  7.663162224759364\n",
            "\n",
            "\n"
          ]
        }
      ],
      "source": [
        "df_source = read_csv('MALLAT/MALLAT_TRAIN', header=None, index_col=0)\n",
        "df_target = read_csv('OliveOil/OliveOil_TRAIN', header=None, index_col=0)\n",
        "DBA(df_source, df_target)"
      ]
    },
    {
      "cell_type": "markdown",
      "metadata": {
        "id": "AVetI8y8cCwo"
      },
      "source": [
        "FaceFour -> OliveOil"
      ]
    },
    {
      "cell_type": "code",
      "execution_count": null,
      "metadata": {
        "colab": {
          "base_uri": "https://localhost:8080/"
        },
        "id": "-8ZVMHL5aSwF",
        "outputId": "88b09f2a-8b52-4fb8-9ab2-aead0e8d5816"
      },
      "outputs": [
        {
          "name": "stdout",
          "output_type": "stream",
          "text": [
            "Most similar class(source-target):  (2, 4)\n",
            "Minimum distance between them:  12.983800330293818\n",
            "\n",
            "\n"
          ]
        }
      ],
      "source": [
        "df_source = read_csv('FaceFour/FaceFour_TRAIN', header=None, index_col=0)\n",
        "df_target = read_csv('OliveOil/OliveOil_TRAIN', header=None, index_col=0)\n",
        "DBA(df_source, df_target)"
      ]
    },
    {
      "cell_type": "markdown",
      "metadata": {
        "id": "kOwTBb9nMkgc"
      },
      "source": [
        "# Visualization"
      ]
    },
    {
      "cell_type": "markdown",
      "metadata": {
        "id": "tiialmhSeBj9"
      },
      "source": [
        "### With all time series"
      ]
    },
    {
      "cell_type": "code",
      "execution_count": null,
      "metadata": {
        "colab": {
          "base_uri": "https://localhost:8080/",
          "height": 430
        },
        "id": "iT1A-kVkTdQf",
        "outputId": "b3cea248-3668-4e35-82b6-e67963f458f3"
      },
      "outputs": [
        {
          "data": {
            "image/png": "[encoded data removed]",
            "text/plain": [
              "<Figure size 640x480 with 1 Axes>"
            ]
          },
          "metadata": {},
          "output_type": "display_data"
        }
      ],
      "source": [
        "for i in range(len(df_source)):\n",
        "    ts                = df_source.iloc[i]\n",
        "    ts                = ts.cumsum()\n",
        "    ts.plot()"
      ]
    },
    {
      "cell_type": "code",
      "execution_count": null,
      "metadata": {
        "colab": {
          "base_uri": "https://localhost:8080/",
          "height": 430
        },
        "id": "FrAMGZ__ddGc",
        "outputId": "5e7cf61d-4c1a-4448-e80f-ad1205f206b2"
      },
      "outputs": [
        {
          "data": {
            "image/png": "[encoded data removed]",
            "text/plain": [
              "<Figure size 640x480 with 1 Axes>"
            ]
          },
          "metadata": {},
          "output_type": "display_data"
        }
      ],
      "source": [
        "for i in range(len(df_target)):\n",
        "    ts                = df_target.iloc[i]\n",
        "    ts                = ts.cumsum()\n",
        "    ts.plot()"
      ]
    },
    {
      "cell_type": "markdown",
      "metadata": {
        "id": "dsawn3zCMp5y"
      },
      "source": [
        "### With prototypes"
      ]
    },
    {
      "cell_type": "code",
      "execution_count": null,
      "metadata": {
        "id": "f0RGke6udSzY"
      },
      "outputs": [],
      "source": [
        "def generate_prototype(df_source, df_target):\n",
        "  '''Returns the source and target Barycenters'''\n",
        "  df_prototype_s = {}\n",
        "  df_prototype_t = {}\n",
        "\n",
        "  for i in range(len(df_source)):\n",
        "    dfs_class                 = df_source.iloc[i].name\n",
        "    df_prototype_s[dfs_class] = []\n",
        "\n",
        "  for i in range(len(df_target)):\n",
        "    dft_class                 = df_target.iloc[i].name\n",
        "    df_prototype_t[dft_class] = []\n",
        "\n",
        "  for i in range(len(df_source)):\n",
        "    dfs                       = df_source.iloc[i]\n",
        "    dfs_class                 = df_source.iloc[i].name\n",
        "    df_prototype_s[dfs_class].append(dfs.to_numpy())\n",
        "\n",
        "  for i in range(len(df_target)):\n",
        "    dft                       = df_target.iloc[i]\n",
        "    dft_class                 = df_target.iloc[i].name\n",
        "    df_prototype_t[dft_class].append(dft.to_numpy())\n",
        "\n",
        "  source_barycenters  = {}  # len(df_prototype_s)\n",
        "  target_barycenters  = {}  # len(df_prototype_t)\n",
        "\n",
        "  for c in (df_prototype_s.keys()):\n",
        "    source_barycenters[c] = dtw_barycenter_averaging(df_prototype_s[c])\n",
        "\n",
        "  for c in (df_prototype_t.keys()):\n",
        "    target_barycenters[c] = dtw_barycenter_averaging(df_prototype_t[c])\n",
        "\n",
        "  return source_barycenters, target_barycenters"
      ]
    },
    {
      "cell_type": "code",
      "execution_count": null,
      "metadata": {
        "id": "vBPTvwm_TW3G"
      },
      "outputs": [],
      "source": [
        "df_source = read_csv('Beef/Beef_TRAIN', header=None, index_col=0)\n",
        "df_target = read_csv('Wine/Wine_TRAIN', header=None, index_col=0)\n",
        "source_barycenters, target_barycenters = generate_prototype(df_source, df_target)"
      ]
    },
    {
      "cell_type": "code",
      "execution_count": null,
      "metadata": {
        "colab": {
          "base_uri": "https://localhost:8080/",
          "height": 433
        },
        "id": "f8NEwPVxd4zu",
        "outputId": "6b6913bd-1cc4-4188-e9da-1728b7e93b01"
      },
      "outputs": [
        {
          "data": {
            "image/png": "[encoded data removed]",
            "text/plain": [
              "<Figure size 640x480 with 1 Axes>"
            ]
          },
          "metadata": {},
          "output_type": "display_data"
        }
      ],
      "source": [
        "import matplotlib.pyplot as plt\n",
        "\n",
        "fig, ax = plt.subplots()\n",
        "for key, value in source_barycenters.items():\n",
        "    ax.plot(value, label=f\"Data {key}\")\n",
        "ax.legend()\n",
        "plt.show()"
      ]
    },
    {
      "cell_type": "code",
      "execution_count": null,
      "metadata": {
        "colab": {
          "base_uri": "https://localhost:8080/",
          "height": 265
        },
        "id": "TnvSpXb4fCb9",
        "outputId": "69888fa5-9c8e-463d-b9b4-01d914aab2ea"
      },
      "outputs": [
        {
          "data": {
            "image/png": "[encoded data removed]",
            "text/plain": [
              "<Figure size 432x288 with 1 Axes>"
            ]
          },
          "metadata": {},
          "output_type": "display_data"
        }
      ],
      "source": [
        "for i in range(len(df_source)):\n",
        "    ts                = df_source.iloc[i]\n",
        "    ts                = ts.cumsum()\n",
        "    ts.plot()"
      ]
    },
    {
      "cell_type": "code",
      "execution_count": null,
      "metadata": {
        "colab": {
          "base_uri": "https://localhost:8080/",
          "height": 265
        },
        "id": "Rmi1HHEad8PB",
        "outputId": "e05c37dc-beae-46e4-f4b1-f74c03e054ca"
      },
      "outputs": [
        {
          "data": {
            "image/png": "[encoded data removed]",
            "text/plain": [
              "<Figure size 432x288 with 1 Axes>"
            ]
          },
          "metadata": {},
          "output_type": "display_data"
        }
      ],
      "source": [
        "fig, ax = plt.subplots()\n",
        "for key, value in target_barycenters.items():\n",
        "    ax.plot(value, label=f\"Data {key}\")\n",
        "ax.legend()\n",
        "plt.show()"
      ]
    },
    {
      "cell_type": "code",
      "execution_count": null,
      "metadata": {
        "colab": {
          "base_uri": "https://localhost:8080/",
          "height": 265
        },
        "id": "l49mWDzqe3Sv",
        "outputId": "3a194759-b7ee-4afd-a9b7-acf78b2144d9"
      },
      "outputs": [
        {
          "data": {
            "image/png": "[encoded data removed]",
            "text/plain": [
              "<Figure size 432x288 with 1 Axes>"
            ]
          },
          "metadata": {},
          "output_type": "display_data"
        }
      ],
      "source": [
        "for i in range(len(df_target)):\n",
        "    ts                = df_target.iloc[i]\n",
        "    ts                = ts.cumsum()\n",
        "    ts.plot()"
      ]
    },
    {
      "cell_type": "markdown",
      "metadata": {
        "id": "1u4LH7cbO9pe"
      },
      "source": [
        "# CNN model implementation"
      ]
    },
    {
      "cell_type": "code",
      "execution_count": null,
      "metadata": {
        "id": "EUJXG-XQPAkA"
      },
      "outputs": [],
      "source": [
        "import numpy as np  # linear algebra\n",
        "import pandas as pd # data processing, CSV file I/O (e.g. pd.read_csv)\n",
        "from pandas import read_csv\n",
        "\n",
        "import torch\n",
        "import torch.nn as nn\n",
        "import torch.nn.functional as F\n",
        "import torch.optim as optim\n",
        "from torch.utils.data import Dataset, DataLoader, ConcatDataset\n",
        "\n",
        "import torchvision\n",
        "from torchvision import transforms\n",
        "\n",
        "import matplotlib.pyplot as plt\n",
        "\n",
        "import copy\n",
        "from tqdm.auto import tqdm"
      ]
    },
    {
      "cell_type": "code",
      "execution_count": null,
      "metadata": {
        "id": "7xS27bXuRE6q"
      },
      "outputs": [],
      "source": [
        "device = \"cuda\" if torch.cuda.is_available() else \"cpu\""
      ]
    },
    {
      "cell_type": "code",
      "execution_count": null,
      "metadata": {
        "colab": {
          "base_uri": "https://localhost:8080/"
        },
        "id": "rOfv0lGBp_RX",
        "outputId": "547be320-ca6b-4a3c-c19a-58b0523ecf6a"
      },
      "outputs": [
        {
          "output_type": "stream",
          "name": "stdout",
          "text": [
            "Drive already mounted at /content/drive/; to attempt to forcibly remount, call drive.mount(\"/content/drive/\", force_remount=True).\n"
          ]
        }
      ],
      "source": [
        "from google.colab import drive\n",
        "drive.mount('/content/drive/')\n",
        "\n",
        "import os\n",
        "os.chdir('/content/drive/My Drive/CS598HAN/UCR_TS_Archive_2015/')"
      ]
    },
    {
      "cell_type": "code",
      "execution_count": null,
      "metadata": {
        "colab": {
          "base_uri": "https://localhost:8080/"
        },
        "id": "3Gpu9WHHGpVL",
        "outputId": "6286efcf-c48f-47f5-f0ff-5eb1b153e13b"
      },
      "outputs": [
        {
          "output_type": "stream",
          "name": "stdout",
          "text": [
            "/content/drive/My Drive/CS598HAN/UCR_TS_Archive_2015\n"
          ]
        }
      ],
      "source": [
        "!pwd"
      ]
    },
    {
      "cell_type": "markdown",
      "metadata": {
        "id": "l-spLNSgvNjK"
      },
      "source": [
        "\n",
        "\n",
        "*   Each batch is a collection of time series (x_train[0]) and their classes (y_train[0]).\n",
        "*   x_train, y_train: coleection of batches(16)\n",
        "\n",
        "*   x_train[0], y_train[0]: first batch"
      ]
    },
    {
      "cell_type": "code",
      "execution_count": null,
      "metadata": {
        "id": "RqKj9kzsRHaO"
      },
      "outputs": [],
      "source": [
        "class CNN(nn.Module):\n",
        "  def __init__(self, lr, input_shape, nb_classes):\n",
        "    super(CNN, self).__init__()\n",
        "\n",
        "    self.conv1  = nn.Conv1d(in_channels=input_shape[0], out_channels=128, kernel_size=8, padding='same')\n",
        "    self.bn1    = nn.BatchNorm1d(128)\n",
        "    self.relu1  = nn.ReLU()\n",
        "\n",
        "    self.conv2  = nn.Conv1d(in_channels=128, out_channels=256, kernel_size=5, padding='same')\n",
        "    self.bn2    = nn.BatchNorm1d(256)\n",
        "    self.relu2  = nn.ReLU()\n",
        "\n",
        "    self.conv3  = nn.Conv1d(in_channels=256, out_channels=128, kernel_size=3, padding='same')\n",
        "    self.bn3    = nn.BatchNorm1d(128)\n",
        "    self.relu3  = nn.ReLU()\n",
        "\n",
        "    self.gap_layer    = nn.AdaptiveAvgPool1d(1)\n",
        "    self.output_layer = nn.Linear(in_features=128, out_features=nb_classes)\n",
        "\n",
        "    self.criterion   = nn.CrossEntropyLoss()\n",
        "    self.optimizer   = torch.optim.Adam(self.parameters(), lr=lr, amsgrad=True)\n",
        "\n",
        "  def forward(self, x):\n",
        "    x = self.conv1(x)\n",
        "    x = self.bn1(x)\n",
        "    x = self.relu1(x)\n",
        "\n",
        "    x = self.conv2(x)\n",
        "    x = self.bn2(x)\n",
        "    x = self.relu2(x)\n",
        "\n",
        "    x = self.conv3(x)\n",
        "    x = self.bn3(x)\n",
        "    x = self.relu3(x)\n",
        "\n",
        "    x = self.gap_layer(x).squeeze()\n",
        "    x = self.output_layer(x)\n",
        "\n",
        "    return x\n",
        "\n",
        "  def step(self, x, y):\n",
        "    self.optimizer.zero_grad()\n",
        "    # reshape X so that input size is compatible for conv layer?\n",
        "    y_hat     = self(x)\n",
        "    criterion = self.criterion\n",
        "    loss      = criterion(y_hat, y)\n",
        "\n",
        "    loss.backward()\n",
        "    self.optimizer.step()\n",
        "\n",
        "    return loss.item()"
      ]
    },
    {
      "cell_type": "code",
      "execution_count": null,
      "metadata": {
        "id": "VZRttWSBVAT4"
      },
      "outputs": [],
      "source": [
        "def train_model(model, x_train, y_train, epochs):\n",
        "  accuracies  = []\n",
        "  model       = model.to(device)\n",
        "  losses      = []\n",
        "\n",
        "  for epoch in tqdm(range(epochs)):\n",
        "    print(\"\\rEpoch {}\".format(epoch), end=\"\")\n",
        "    epoch_loss = 0.0\n",
        "      \n",
        "    for batch_x, batch_y in zip(x_train, y_train):\n",
        "      # To make classes start from 0\n",
        "      batch_y     = batch_y - 1\n",
        "\n",
        "      batch_x     = batch_x.to(device)\n",
        "      batch_y     = batch_y.to(device)\n",
        "\n",
        "      batch_loss = model.step(batch_x, batch_y)\n",
        "\n",
        "      epoch_loss += batch_loss\n",
        "    losses.append(epoch_loss)\n",
        "    print(\"\\rEpoch {} Loss {}\".format(epoch, epoch_loss), end=\"\")\n",
        "    \n",
        "  return losses, model"
      ]
    },
    {
      "cell_type": "code",
      "execution_count": null,
      "metadata": {
        "id": "FCSg-dP0qyS5"
      },
      "outputs": [],
      "source": [
        "# Data loader function\n",
        "def data_loader_ucr(data, batch_size, test=False):\n",
        "  d = data.to_numpy()\n",
        "  np.random.shuffle(d)\n",
        "  if test==True:\n",
        "    new_batch_size = batch_size\n",
        "  else:\n",
        "    new_batch_size = batch_size #int(min(d.shape[0]/10, batch_size))\n",
        "  cols = range(1, d.shape[1])\n",
        "  y = d[:, [0]]\n",
        "  x = d[:, cols]\n",
        "  nb_classes = np.unique(y)\n",
        "  if len(x.shape) == 2:  # if univariate\n",
        "\t\t# add a dimension to make it multivariate with one dimension\n",
        "    x_new = x.reshape((x.shape[0], x.shape[1], 1))\n",
        "    x_train, y_train = np.array_split(x_new, new_batch_size, axis=0), np.array_split(y, new_batch_size, axis=0) \n",
        "  else:\n",
        "    x_train, y_train = np.array_split(x_new, new_batch_size, axis=0), np.array_split(y, new_batch_size, axis=0)\n",
        "\n",
        "  x_train     = [torch.from_numpy(item).float() for item in x_train]\n",
        "  y_train     = [(torch.from_numpy(item).flatten()).type(torch.LongTensor) for item in y_train]\n",
        "\n",
        "  return x_train, y_train, new_batch_size, nb_classes"
      ]
    },
    {
      "cell_type": "code",
      "execution_count": null,
      "metadata": {
        "id": "3tLE1ocXqzq6"
      },
      "outputs": [],
      "source": [
        "# source dataset - Simran\n",
        "data = read_csv('UWaveGestureLibraryAll/UWaveGestureLibraryAll_TRAIN', header=None)\n",
        "x_train, y_train, batch_size, nb_classes = data_loader_ucr(data, 16)"
      ]
    },
    {
      "cell_type": "code",
      "source": [
        "data"
      ],
      "metadata": {
        "colab": {
          "base_uri": "https://localhost:8080/",
          "height": 424
        },
        "id": "NHIKS5y17QFL",
        "outputId": "6baed24f-a31e-4139-b781-f0d4212e226b"
      },
      "execution_count": null,
      "outputs": [
        {
          "output_type": "execute_result",
          "data": {
            "text/plain": [
              "     0        1        2        3        4        5        6        7    \\\n",
              "0      6 -0.31250 -0.31250 -0.31250 -0.31250 -0.31250 -0.31250 -0.31250   \n",
              "1      5  1.62970  1.62970  1.62970  1.62970  1.62970  1.62970  1.62970   \n",
              "2      5  0.66541  0.66541  0.66541  0.66541  0.66541  0.66541  0.66541   \n",
              "3      3  0.16489  0.16489  0.16489  0.16489  0.16489  0.16489  0.16489   \n",
              "4      4  1.27250  1.27250  1.27250  1.27250  1.27250  1.27250  1.27250   \n",
              "..   ...      ...      ...      ...      ...      ...      ...      ...   \n",
              "891    3  0.12606  0.12606  0.12606  0.12606  0.12606  0.12606  0.12606   \n",
              "892    1 -1.23230 -1.23230 -1.23230 -1.23230 -1.23230 -1.23230 -1.23230   \n",
              "893    2  0.28510  0.28510  0.28510  0.28510  0.28510  0.28510  0.28510   \n",
              "894    7  1.25140  1.25140  1.25140  1.25140  1.25140  1.25140  1.25140   \n",
              "895    5 -0.16640 -0.16640 -0.16640 -0.16640 -0.16640 -0.16640 -0.16640   \n",
              "\n",
              "         8        9    ...      936      937      938       939      940  \\\n",
              "0   -0.31250 -0.31250  ...  0.51219  0.50300  0.49252  0.482050  0.46366   \n",
              "1    1.62970  1.62970  ... -0.42425 -0.42425 -0.42425 -0.424410 -0.42601   \n",
              "2    0.66541  0.66541  ... -0.85689 -0.85689 -0.85689 -0.856890 -0.85689   \n",
              "3    0.16489  0.16489  ... -0.19475 -0.13101 -0.28657  0.051284  0.38914   \n",
              "4    1.27250  1.27250  ...  1.85240  1.81930  1.74120  1.624100  1.50690   \n",
              "..       ...      ...  ...      ...      ...      ...       ...      ...   \n",
              "891  0.12606  0.12606  ... -0.20282 -0.12824 -0.32171 -0.044231  0.14222   \n",
              "892 -1.23230 -1.23230  ...  0.22168  0.23388  0.24607  0.258260  0.27046   \n",
              "893  0.28510  0.28510  ... -0.21908 -0.21316 -0.18713  0.176420  0.13835   \n",
              "894  1.25140  1.25140  ... -0.15540 -0.15819 -0.18551 -0.291490 -0.40197   \n",
              "895 -0.16640 -0.16640  ... -0.87301 -0.87301 -0.87237 -0.867260 -0.85666   \n",
              "\n",
              "         941      942      943      944      945  \n",
              "0    0.44528  0.42689  0.40851  0.39013  0.37175  \n",
              "1   -0.43796 -0.44990 -0.46185 -0.47379 -0.48574  \n",
              "2   -0.85689 -0.85689 -0.85689 -0.85689 -0.85689  \n",
              "3    0.14914  0.24567  0.43713  0.63984  0.84255  \n",
              "4    1.43920  1.50100  1.61810  1.73530  1.85240  \n",
              "..       ...      ...      ...      ...      ...  \n",
              "891  0.32867  0.11003  0.14732  0.18461  0.22190  \n",
              "892  0.28265  0.29484  0.30704  0.31923  0.33142  \n",
              "893  0.19837  0.44633  0.16122  0.22572  0.27010  \n",
              "894 -0.49932 -0.55389 -0.54401 -0.50064 -0.42788  \n",
              "895 -0.84606 -0.82558 -0.79792 -0.76611 -0.73431  \n",
              "\n",
              "[896 rows x 946 columns]"
            ],
            "text/html": [
              "\n",
              "  <div id=\"df-3ffabc4e-6e45-440e-bc0f-e5b73a29f9a7\">\n",
              "    <div class=\"colab-df-container\">\n",
              "      <div>\n",
              "<style scoped>\n",
              "    .dataframe tbody tr th:only-of-type {\n",
              "        vertical-align: middle;\n",
              "    }\n",
              "\n",
              "    .dataframe tbody tr th {\n",
              "        vertical-align: top;\n",
              "    }\n",
              "\n",
              "    .dataframe thead th {\n",
              "        text-align: right;\n",
              "    }\n",
              "</style>\n",
              "<table border=\"1\" class=\"dataframe\">\n",
              "  <thead>\n",
              "    <tr style=\"text-align: right;\">\n",
              "      <th></th>\n",
              "      <th>0</th>\n",
              "      <th>1</th>\n",
              "      <th>2</th>\n",
              "      <th>3</th>\n",
              "      <th>4</th>\n",
              "      <th>5</th>\n",
              "      <th>6</th>\n",
              "      <th>7</th>\n",
              "      <th>8</th>\n",
              "      <th>9</th>\n",
              "      <th>...</th>\n",
              "      <th>936</th>\n",
              "      <th>937</th>\n",
              "      <th>938</th>\n",
              "      <th>939</th>\n",
              "      <th>940</th>\n",
              "      <th>941</th>\n",
              "      <th>942</th>\n",
              "      <th>943</th>\n",
              "      <th>944</th>\n",
              "      <th>945</th>\n",
              "    </tr>\n",
              "  </thead>\n",
              "  <tbody>\n",
              "    <tr>\n",
              "      <th>0</th>\n",
              "      <td>6</td>\n",
              "      <td>-0.31250</td>\n",
              "      <td>-0.31250</td>\n",
              "      <td>-0.31250</td>\n",
              "      <td>-0.31250</td>\n",
              "      <td>-0.31250</td>\n",
              "      <td>-0.31250</td>\n",
              "      <td>-0.31250</td>\n",
              "      <td>-0.31250</td>\n",
              "      <td>-0.31250</td>\n",
              "      <td>...</td>\n",
              "      <td>0.51219</td>\n",
              "      <td>0.50300</td>\n",
              "      <td>0.49252</td>\n",
              "      <td>0.482050</td>\n",
              "      <td>0.46366</td>\n",
              "      <td>0.44528</td>\n",
              "      <td>0.42689</td>\n",
              "      <td>0.40851</td>\n",
              "      <td>0.39013</td>\n",
              "      <td>0.37175</td>\n",
              "    </tr>\n",
              "    <tr>\n",
              "      <th>1</th>\n",
              "      <td>5</td>\n",
              "      <td>1.62970</td>\n",
              "      <td>1.62970</td>\n",
              "      <td>1.62970</td>\n",
              "      <td>1.62970</td>\n",
              "      <td>1.62970</td>\n",
              "      <td>1.62970</td>\n",
              "      <td>1.62970</td>\n",
              "      <td>1.62970</td>\n",
              "      <td>1.62970</td>\n",
              "      <td>...</td>\n",
              "      <td>-0.42425</td>\n",
              "      <td>-0.42425</td>\n",
              "      <td>-0.42425</td>\n",
              "      <td>-0.424410</td>\n",
              "      <td>-0.42601</td>\n",
              "      <td>-0.43796</td>\n",
              "      <td>-0.44990</td>\n",
              "      <td>-0.46185</td>\n",
              "      <td>-0.47379</td>\n",
              "      <td>-0.48574</td>\n",
              "    </tr>\n",
              "    <tr>\n",
              "      <th>2</th>\n",
              "      <td>5</td>\n",
              "      <td>0.66541</td>\n",
              "      <td>0.66541</td>\n",
              "      <td>0.66541</td>\n",
              "      <td>0.66541</td>\n",
              "      <td>0.66541</td>\n",
              "      <td>0.66541</td>\n",
              "      <td>0.66541</td>\n",
              "      <td>0.66541</td>\n",
              "      <td>0.66541</td>\n",
              "      <td>...</td>\n",
              "      <td>-0.85689</td>\n",
              "      <td>-0.85689</td>\n",
              "      <td>-0.85689</td>\n",
              "      <td>-0.856890</td>\n",
              "      <td>-0.85689</td>\n",
              "      <td>-0.85689</td>\n",
              "      <td>-0.85689</td>\n",
              "      <td>-0.85689</td>\n",
              "      <td>-0.85689</td>\n",
              "      <td>-0.85689</td>\n",
              "    </tr>\n",
              "    <tr>\n",
              "      <th>3</th>\n",
              "      <td>3</td>\n",
              "      <td>0.16489</td>\n",
              "      <td>0.16489</td>\n",
              "      <td>0.16489</td>\n",
              "      <td>0.16489</td>\n",
              "      <td>0.16489</td>\n",
              "      <td>0.16489</td>\n",
              "      <td>0.16489</td>\n",
              "      <td>0.16489</td>\n",
              "      <td>0.16489</td>\n",
              "      <td>...</td>\n",
              "      <td>-0.19475</td>\n",
              "      <td>-0.13101</td>\n",
              "      <td>-0.28657</td>\n",
              "      <td>0.051284</td>\n",
              "      <td>0.38914</td>\n",
              "      <td>0.14914</td>\n",
              "      <td>0.24567</td>\n",
              "      <td>0.43713</td>\n",
              "      <td>0.63984</td>\n",
              "      <td>0.84255</td>\n",
              "    </tr>\n",
              "    <tr>\n",
              "      <th>4</th>\n",
              "      <td>4</td>\n",
              "      <td>1.27250</td>\n",
              "      <td>1.27250</td>\n",
              "      <td>1.27250</td>\n",
              "      <td>1.27250</td>\n",
              "      <td>1.27250</td>\n",
              "      <td>1.27250</td>\n",
              "      <td>1.27250</td>\n",
              "      <td>1.27250</td>\n",
              "      <td>1.27250</td>\n",
              "      <td>...</td>\n",
              "      <td>1.85240</td>\n",
              "      <td>1.81930</td>\n",
              "      <td>1.74120</td>\n",
              "      <td>1.624100</td>\n",
              "      <td>1.50690</td>\n",
              "      <td>1.43920</td>\n",
              "      <td>1.50100</td>\n",
              "      <td>1.61810</td>\n",
              "      <td>1.73530</td>\n",
              "      <td>1.85240</td>\n",
              "    </tr>\n",
              "    <tr>\n",
              "      <th>...</th>\n",
              "      <td>...</td>\n",
              "      <td>...</td>\n",
              "      <td>...</td>\n",
              "      <td>...</td>\n",
              "      <td>...</td>\n",
              "      <td>...</td>\n",
              "      <td>...</td>\n",
              "      <td>...</td>\n",
              "      <td>...</td>\n",
              "      <td>...</td>\n",
              "      <td>...</td>\n",
              "      <td>...</td>\n",
              "      <td>...</td>\n",
              "      <td>...</td>\n",
              "      <td>...</td>\n",
              "      <td>...</td>\n",
              "      <td>...</td>\n",
              "      <td>...</td>\n",
              "      <td>...</td>\n",
              "      <td>...</td>\n",
              "      <td>...</td>\n",
              "    </tr>\n",
              "    <tr>\n",
              "      <th>891</th>\n",
              "      <td>3</td>\n",
              "      <td>0.12606</td>\n",
              "      <td>0.12606</td>\n",
              "      <td>0.12606</td>\n",
              "      <td>0.12606</td>\n",
              "      <td>0.12606</td>\n",
              "      <td>0.12606</td>\n",
              "      <td>0.12606</td>\n",
              "      <td>0.12606</td>\n",
              "      <td>0.12606</td>\n",
              "      <td>...</td>\n",
              "      <td>-0.20282</td>\n",
              "      <td>-0.12824</td>\n",
              "      <td>-0.32171</td>\n",
              "      <td>-0.044231</td>\n",
              "      <td>0.14222</td>\n",
              "      <td>0.32867</td>\n",
              "      <td>0.11003</td>\n",
              "      <td>0.14732</td>\n",
              "      <td>0.18461</td>\n",
              "      <td>0.22190</td>\n",
              "    </tr>\n",
              "    <tr>\n",
              "      <th>892</th>\n",
              "      <td>1</td>\n",
              "      <td>-1.23230</td>\n",
              "      <td>-1.23230</td>\n",
              "      <td>-1.23230</td>\n",
              "      <td>-1.23230</td>\n",
              "      <td>-1.23230</td>\n",
              "      <td>-1.23230</td>\n",
              "      <td>-1.23230</td>\n",
              "      <td>-1.23230</td>\n",
              "      <td>-1.23230</td>\n",
              "      <td>...</td>\n",
              "      <td>0.22168</td>\n",
              "      <td>0.23388</td>\n",
              "      <td>0.24607</td>\n",
              "      <td>0.258260</td>\n",
              "      <td>0.27046</td>\n",
              "      <td>0.28265</td>\n",
              "      <td>0.29484</td>\n",
              "      <td>0.30704</td>\n",
              "      <td>0.31923</td>\n",
              "      <td>0.33142</td>\n",
              "    </tr>\n",
              "    <tr>\n",
              "      <th>893</th>\n",
              "      <td>2</td>\n",
              "      <td>0.28510</td>\n",
              "      <td>0.28510</td>\n",
              "      <td>0.28510</td>\n",
              "      <td>0.28510</td>\n",
              "      <td>0.28510</td>\n",
              "      <td>0.28510</td>\n",
              "      <td>0.28510</td>\n",
              "      <td>0.28510</td>\n",
              "      <td>0.28510</td>\n",
              "      <td>...</td>\n",
              "      <td>-0.21908</td>\n",
              "      <td>-0.21316</td>\n",
              "      <td>-0.18713</td>\n",
              "      <td>0.176420</td>\n",
              "      <td>0.13835</td>\n",
              "      <td>0.19837</td>\n",
              "      <td>0.44633</td>\n",
              "      <td>0.16122</td>\n",
              "      <td>0.22572</td>\n",
              "      <td>0.27010</td>\n",
              "    </tr>\n",
              "    <tr>\n",
              "      <th>894</th>\n",
              "      <td>7</td>\n",
              "      <td>1.25140</td>\n",
              "      <td>1.25140</td>\n",
              "      <td>1.25140</td>\n",
              "      <td>1.25140</td>\n",
              "      <td>1.25140</td>\n",
              "      <td>1.25140</td>\n",
              "      <td>1.25140</td>\n",
              "      <td>1.25140</td>\n",
              "      <td>1.25140</td>\n",
              "      <td>...</td>\n",
              "      <td>-0.15540</td>\n",
              "      <td>-0.15819</td>\n",
              "      <td>-0.18551</td>\n",
              "      <td>-0.291490</td>\n",
              "      <td>-0.40197</td>\n",
              "      <td>-0.49932</td>\n",
              "      <td>-0.55389</td>\n",
              "      <td>-0.54401</td>\n",
              "      <td>-0.50064</td>\n",
              "      <td>-0.42788</td>\n",
              "    </tr>\n",
              "    <tr>\n",
              "      <th>895</th>\n",
              "      <td>5</td>\n",
              "      <td>-0.16640</td>\n",
              "      <td>-0.16640</td>\n",
              "      <td>-0.16640</td>\n",
              "      <td>-0.16640</td>\n",
              "      <td>-0.16640</td>\n",
              "      <td>-0.16640</td>\n",
              "      <td>-0.16640</td>\n",
              "      <td>-0.16640</td>\n",
              "      <td>-0.16640</td>\n",
              "      <td>...</td>\n",
              "      <td>-0.87301</td>\n",
              "      <td>-0.87301</td>\n",
              "      <td>-0.87237</td>\n",
              "      <td>-0.867260</td>\n",
              "      <td>-0.85666</td>\n",
              "      <td>-0.84606</td>\n",
              "      <td>-0.82558</td>\n",
              "      <td>-0.79792</td>\n",
              "      <td>-0.76611</td>\n",
              "      <td>-0.73431</td>\n",
              "    </tr>\n",
              "  </tbody>\n",
              "</table>\n",
              "<p>896 rows × 946 columns</p>\n",
              "</div>\n",
              "      <button class=\"colab-df-convert\" onclick=\"convertToInteractive('df-3ffabc4e-6e45-440e-bc0f-e5b73a29f9a7')\"\n",
              "              title=\"Convert this dataframe to an interactive table.\"\n",
              "              style=\"display:none;\">\n",
              "        \n",
              "  <svg xmlns=\"http://www.w3.org/2000/svg\" height=\"24px\"viewBox=\"0 0 24 24\"\n",
              "       width=\"24px\">\n",
              "    <path d=\"M0 0h24v24H0V0z\" fill=\"none\"/>\n",
              "    <path d=\"M18.56 5.44l.94 2.06.94-2.06 2.06-.94-2.06-.94-.94-2.06-.94 2.06-2.06.94zm-11 1L8.5 8.5l.94-2.06 2.06-.94-2.06-.94L8.5 2.5l-.94 2.06-2.06.94zm10 10l.94 2.06.94-2.06 2.06-.94-2.06-.94-.94-2.06-.94 2.06-2.06.94z\"/><path d=\"M17.41 7.96l-1.37-1.37c-.4-.4-.92-.59-1.43-.59-.52 0-1.04.2-1.43.59L10.3 9.45l-7.72 7.72c-.78.78-.78 2.05 0 2.83L4 21.41c.39.39.9.59 1.41.59.51 0 1.02-.2 1.41-.59l7.78-7.78 2.81-2.81c.8-.78.8-2.07 0-2.86zM5.41 20L4 18.59l7.72-7.72 1.47 1.35L5.41 20z\"/>\n",
              "  </svg>\n",
              "      </button>\n",
              "      \n",
              "  <style>\n",
              "    .colab-df-container {\n",
              "      display:flex;\n",
              "      flex-wrap:wrap;\n",
              "      gap: 12px;\n",
              "    }\n",
              "\n",
              "    .colab-df-convert {\n",
              "      background-color: #E8F0FE;\n",
              "      border: none;\n",
              "      border-radius: 50%;\n",
              "      cursor: pointer;\n",
              "      display: none;\n",
              "      fill: #1967D2;\n",
              "      height: 32px;\n",
              "      padding: 0 0 0 0;\n",
              "      width: 32px;\n",
              "    }\n",
              "\n",
              "    .colab-df-convert:hover {\n",
              "      background-color: #E2EBFA;\n",
              "      box-shadow: 0px 1px 2px rgba(60, 64, 67, 0.3), 0px 1px 3px 1px rgba(60, 64, 67, 0.15);\n",
              "      fill: #174EA6;\n",
              "    }\n",
              "\n",
              "    [theme=dark] .colab-df-convert {\n",
              "      background-color: #3B4455;\n",
              "      fill: #D2E3FC;\n",
              "    }\n",
              "\n",
              "    [theme=dark] .colab-df-convert:hover {\n",
              "      background-color: #434B5C;\n",
              "      box-shadow: 0px 1px 3px 1px rgba(0, 0, 0, 0.15);\n",
              "      filter: drop-shadow(0px 1px 2px rgba(0, 0, 0, 0.3));\n",
              "      fill: #FFFFFF;\n",
              "    }\n",
              "  </style>\n",
              "\n",
              "      <script>\n",
              "        const buttonEl =\n",
              "          document.querySelector('#df-3ffabc4e-6e45-440e-bc0f-e5b73a29f9a7 button.colab-df-convert');\n",
              "        buttonEl.style.display =\n",
              "          google.colab.kernel.accessAllowed ? 'block' : 'none';\n",
              "\n",
              "        async function convertToInteractive(key) {\n",
              "          const element = document.querySelector('#df-3ffabc4e-6e45-440e-bc0f-e5b73a29f9a7');\n",
              "          const dataTable =\n",
              "            await google.colab.kernel.invokeFunction('convertToInteractive',\n",
              "                                                     [key], {});\n",
              "          if (!dataTable) return;\n",
              "\n",
              "          const docLinkHtml = 'Like what you see? Visit the ' +\n",
              "            '<a target=\"_blank\" href=https://colab.research.google.com/notebooks/data_table.ipynb>data table notebook</a>'\n",
              "            + ' to learn more about interactive tables.';\n",
              "          element.innerHTML = '';\n",
              "          dataTable['output_type'] = 'display_data';\n",
              "          await google.colab.output.renderOutput(dataTable, element);\n",
              "          const docLink = document.createElement('div');\n",
              "          docLink.innerHTML = docLinkHtml;\n",
              "          element.appendChild(docLink);\n",
              "        }\n",
              "      </script>\n",
              "    </div>\n",
              "  </div>\n",
              "  "
            ]
          },
          "metadata": {},
          "execution_count": 17
        }
      ]
    },
    {
      "cell_type": "code",
      "source": [
        "x_train[0].shape"
      ],
      "metadata": {
        "colab": {
          "base_uri": "https://localhost:8080/"
        },
        "id": "uYEKuWJ99-L3",
        "outputId": "5e43d538-18d7-4e82-a3f1-b34b2614bb22"
      },
      "execution_count": null,
      "outputs": [
        {
          "output_type": "execute_result",
          "data": {
            "text/plain": [
              "torch.Size([56, 945, 1])"
            ]
          },
          "metadata": {},
          "execution_count": 18
        }
      ]
    },
    {
      "cell_type": "code",
      "execution_count": null,
      "metadata": {
        "colab": {
          "base_uri": "https://localhost:8080/"
        },
        "id": "PgDPf3SJJ3So",
        "outputId": "74eb311e-1203-4e85-a4ee-0b71670d19e3"
      },
      "outputs": [
        {
          "output_type": "stream",
          "name": "stdout",
          "text": [
            "16\n",
            "56\n",
            "945\n"
          ]
        }
      ],
      "source": [
        "# Number of batches for source dataet\n",
        "print(len(x_train))\n",
        "\n",
        "# batch size in the source dataet\n",
        "print(len(x_train[0]))\n",
        "\n",
        "# length of a time series in the source dataet\n",
        "print(len(x_train[0][0]))"
      ]
    },
    {
      "cell_type": "code",
      "source": [
        "nb_classes"
      ],
      "metadata": {
        "colab": {
          "base_uri": "https://localhost:8080/"
        },
        "id": "q3iLDvXy-3xU",
        "outputId": "7eeb76e1-3ffa-4920-c824-db7acb61d007"
      },
      "execution_count": null,
      "outputs": [
        {
          "output_type": "execute_result",
          "data": {
            "text/plain": [
              "array([1., 2., 3., 4., 5., 6., 7., 8.])"
            ]
          },
          "metadata": {},
          "execution_count": 20
        }
      ]
    },
    {
      "cell_type": "code",
      "source": [
        "nb_epochs   = 2000\n",
        "lr          = 1e-4\n",
        "verbose     = False\n",
        "input_shape = (len(x_train[0][0]), 1)\n",
        "nb_classes  = len(nb_classes)"
      ],
      "metadata": {
        "id": "37PaUMOw_Bgk"
      },
      "execution_count": null,
      "outputs": []
    },
    {
      "cell_type": "code",
      "execution_count": null,
      "metadata": {
        "colab": {
          "base_uri": "https://localhost:8080/",
          "height": 121,
          "referenced_widgets": [
            "ade26491b64d4fbe88f1ef397461cd02",
            "9c526697906549eda435a9b0836c4d1c",
            "4d6f3bad50ff45ed95a5f46810be75c7",
            "20c0894baedb4da0815cdb6eb4ff18a7",
            "6ee296549e0e40f79e60911e7592bfc0",
            "21cf4da6bd624b0697856a71c41b923f",
            "087145240d8c48169cb29216e36015cd",
            "da71a5e856bb4d98a9ac2f4ebc79f875",
            "28396bf0be4a4cec81d69ef049ccf9cf",
            "235b6045b8ba46b2a23a8e172cef9549",
            "6713829b0acc43d4aac451b69fa8ea4e"
          ]
        },
        "id": "SutcujVeZaef",
        "outputId": "aa8868b0-9467-4e5f-ac5c-576c9127670f"
      },
      "outputs": [
        {
          "output_type": "display_data",
          "data": {
            "text/plain": [
              "  0%|          | 0/1000 [00:00<?, ?it/s]"
            ],
            "application/vnd.jupyter.widget-view+json": {
              "version_major": 2,
              "version_minor": 0,
              "model_id": "ade26491b64d4fbe88f1ef397461cd02"
            }
          },
          "metadata": {}
        },
        {
          "output_type": "stream",
          "name": "stdout",
          "text": [
            "\rEpoch 0"
          ]
        },
        {
          "output_type": "stream",
          "name": "stderr",
          "text": [
            "/usr/local/lib/python3.9/dist-packages/torch/nn/modules/conv.py:309: UserWarning: Using padding='same' with even kernel lengths and odd dilation may require a zero-padded copy of the input be created (Triggered internally at ../aten/src/ATen/native/Convolution.cpp:1003.)\n",
            "  return F.conv1d(input, weight, bias, self.stride,\n"
          ]
        },
        {
          "output_type": "stream",
          "name": "stdout",
          "text": [
            "Epoch 999"
          ]
        }
      ],
      "source": [
        "model = CNN(lr, input_shape, nb_classes)\n",
        "\n",
        "loss, trained_model = train_model(model, x_train, y_train, nb_epochs)"
      ]
    },
    {
      "cell_type": "code",
      "source": [
        "loss"
      ],
      "metadata": {
        "colab": {
          "base_uri": "https://localhost:8080/"
        },
        "id": "C4K75_KEinyZ",
        "outputId": "6606d3c4-5019-406d-928e-1b832786d855"
      },
      "execution_count": null,
      "outputs": [
        {
          "output_type": "execute_result",
          "data": {
            "text/plain": [
              "[22.241171777248383,\n",
              " 11.922850549221039,\n",
              " 8.840381056070328,\n",
              " 7.244059979915619,\n",
              " 6.208936154842377,\n",
              " 5.426944777369499,\n",
              " 4.8017967492341995,\n",
              " 4.28549288213253,\n",
              " 3.8466404527425766,\n",
              " 3.472497373819351,\n",
              " 3.1484675258398056,\n",
              " 2.8636563420295715,\n",
              " 2.6164212599396706,\n",
              " 2.3956735357642174,\n",
              " 2.191468797624111,\n",
              " 2.013313412666321,\n",
              " 1.8547434657812119,\n",
              " 1.7125960886478424,\n",
              " 1.5843953490257263,\n",
              " 1.4712345749139786,\n",
              " 1.3707180321216583,\n",
              " 1.2773660942912102,\n",
              " 1.1944442801177502,\n",
              " 1.1222485341131687,\n",
              " 1.0543996132910252,\n",
              " 0.9918994307518005,\n",
              " 0.9367137476801872,\n",
              " 0.8849858194589615,\n",
              " 0.8383214883506298,\n",
              " 0.7968999743461609,\n",
              " 0.7580599002540112,\n",
              " 0.721101276576519,\n",
              " 0.6874547004699707,\n",
              " 0.6567039638757706,\n",
              " 0.6279202327132225,\n",
              " 0.601026264950633,\n",
              " 0.5757123585790396,\n",
              " 0.5527845341712236,\n",
              " 0.5308642294257879,\n",
              " 0.5103171989321709,\n",
              " 0.4914010502398014,\n",
              " 0.4734560623764992,\n",
              " 0.4565843418240547,\n",
              " 0.4405683893710375,\n",
              " 0.4256841894239187,\n",
              " 0.4113557320088148,\n",
              " 0.39791335351765156,\n",
              " 0.3852817751467228,\n",
              " 0.37336653284728527,\n",
              " 0.36194785311818123,\n",
              " 0.3511742725968361,\n",
              " 0.34079374000430107,\n",
              " 0.33094471506774426,\n",
              " 0.3216597344726324,\n",
              " 0.31274511478841305,\n",
              " 0.30429790169000626,\n",
              " 0.29607747308909893,\n",
              " 0.28837219160050154,\n",
              " 0.2809534212574363,\n",
              " 0.2739239865913987,\n",
              " 0.2670416412875056,\n",
              " 0.26058937329798937,\n",
              " 0.254360543563962,\n",
              " 0.24836491327732801,\n",
              " 0.24259444419294596,\n",
              " 0.23701719474047422,\n",
              " 0.23173824232071638,\n",
              " 0.2265986604616046,\n",
              " 0.22172657307237387,\n",
              " 0.21696217823773623,\n",
              " 0.2123546628281474,\n",
              " 0.20794877223670483,\n",
              " 0.20369227603077888,\n",
              " 0.19959742203354836,\n",
              " 0.19564947113394737,\n",
              " 0.1918007843196392,\n",
              " 0.18805478233844042,\n",
              " 0.1845243750140071,\n",
              " 0.18105403240770102,\n",
              " 0.1776501378044486,\n",
              " 0.17443008162081242,\n",
              " 0.17125454638153315,\n",
              " 0.16820543818175793,\n",
              " 0.16525208950042725,\n",
              " 0.16239460464566946,\n",
              " 0.15959774423390627,\n",
              " 0.1569009916856885,\n",
              " 0.15428490238264203,\n",
              " 0.1517544682137668,\n",
              " 0.14925097487866879,\n",
              " 0.14686386426910758,\n",
              " 0.14450133126229048,\n",
              " 0.14223202876746655,\n",
              " 0.1400326290167868,\n",
              " 0.13788006687536836,\n",
              " 0.13576937606558204,\n",
              " 0.13375158747658134,\n",
              " 0.1317520379088819,\n",
              " 0.12981583457440138,\n",
              " 0.12792849680408835,\n",
              " 0.12610829900950193,\n",
              " 0.12430162681266665,\n",
              " 0.12255575461313128,\n",
              " 0.1208499288186431,\n",
              " 0.11918157152831554,\n",
              " 0.11754320235922933,\n",
              " 0.11598154436796904,\n",
              " 0.11442289454862475,\n",
              " 0.11291379947215319,\n",
              " 0.11142725730314851,\n",
              " 0.10999517142772675,\n",
              " 0.10858491575345397,\n",
              " 0.10720023093745112,\n",
              " 0.10585067281499505,\n",
              " 0.10454605612903833,\n",
              " 0.10324777802452445,\n",
              " 0.1019856808707118,\n",
              " 0.10076211206614971,\n",
              " 0.09954721201211214,\n",
              " 0.09837372787296772,\n",
              " 0.09721443895250559,\n",
              " 0.09608016535639763,\n",
              " 0.09496943652629852,\n",
              " 0.09388904552906752,\n",
              " 0.09281711839139462,\n",
              " 0.09179124841466546,\n",
              " 0.09075560187920928,\n",
              " 0.08976211538538337,\n",
              " 0.08877363940700889,\n",
              " 0.08781593246385455,\n",
              " 0.08686472568660975,\n",
              " 0.08595017623156309,\n",
              " 0.08503229497000575,\n",
              " 0.08414293127134442,\n",
              " 0.08326847339048982,\n",
              " 0.08240818278864026,\n",
              " 0.08156917802989483,\n",
              " 0.08073546132072806,\n",
              " 0.07992922887206078,\n",
              " 0.07912736106663942,\n",
              " 0.07834570948034525,\n",
              " 0.07757822191342711,\n",
              " 0.0768202394247055,\n",
              " 0.07607778231613338,\n",
              " 0.07534371456131339,\n",
              " 0.07462480221875012,\n",
              " 0.07392025063745677,\n",
              " 0.0732264758553356,\n",
              " 0.07254173373803496,\n",
              " 0.07187111699022353,\n",
              " 0.0712122858967632,\n",
              " 0.07056170585565269,\n",
              " 0.06992679974064231,\n",
              " 0.06929631251841784,\n",
              " 0.0686789711471647,\n",
              " 0.06806926755234599,\n",
              " 0.06747285951860249,\n",
              " 0.06688508694060147,\n",
              " 0.0663024322129786,\n",
              " 0.06574036087840796,\n",
              " 0.0651716673746705,\n",
              " 0.06462459918111563,\n",
              " 0.06408040202222764,\n",
              " 0.06354270502924919,\n",
              " 0.06301721627824008,\n",
              " 0.062496858183294535,\n",
              " 0.06198490667156875,\n",
              " 0.06147916545160115,\n",
              " 0.060987723525613546,\n",
              " 0.06049559055827558,\n",
              " 0.06001191749237478,\n",
              " 0.059538062661886215,\n",
              " 0.059074188116937876,\n",
              " 0.05860692146234214,\n",
              " 0.05815533688291907,\n",
              " 0.05770567152649164,\n",
              " 0.0572623738553375,\n",
              " 0.05682845623232424,\n",
              " 0.05639756331220269,\n",
              " 0.0559767980594188,\n",
              " 0.05555473663844168,\n",
              " 0.05514627369120717,\n",
              " 0.05473701050505042,\n",
              " 0.054336264031007886,\n",
              " 0.0539433800149709,\n",
              " 0.053548951633274555,\n",
              " 0.05316624045372009,\n",
              " 0.05278412066400051,\n",
              " 0.05241178208962083,\n",
              " 0.05203969310969114,\n",
              " 0.051673978101462126,\n",
              " 0.05131401726976037,\n",
              " 0.05095925601199269,\n",
              " 0.05060517927631736,\n",
              " 0.05025949887931347,\n",
              " 0.049914967035874724,\n",
              " 0.04957731161266565,\n",
              " 0.049244432942941785,\n",
              " 0.048914754297584295,\n",
              " 0.04858813504688442,\n",
              " 0.04826804390177131,\n",
              " 0.04794812621548772,\n",
              " 0.0476338597945869,\n",
              " 0.04732442484237254,\n",
              " 0.0470170381013304,\n",
              " 0.04671417106874287,\n",
              " 0.04641408612951636,\n",
              " 0.04611938982270658,\n",
              " 0.0458264893386513,\n",
              " 0.04553723591379821,\n",
              " 0.04525080928578973,\n",
              " 0.04497150471433997,\n",
              " 0.04468975309282541,\n",
              " 0.04441433702595532,\n",
              " 0.044141569873318076,\n",
              " 0.043872016947716475,\n",
              " 0.04360562586225569,\n",
              " 0.04334370116703212,\n",
              " 0.0430810060352087,\n",
              " 0.04282405041158199,\n",
              " 0.042570323683321476,\n",
              " 0.042317368322983384,\n",
              " 0.04206862719729543,\n",
              " 0.04182277759537101,\n",
              " 0.04157816502265632,\n",
              " 0.04133788822218776,\n",
              " 0.04109792341478169,\n",
              " 0.04086328763514757,\n",
              " 0.04062983929179609,\n",
              " 0.04039897141046822,\n",
              " 0.040169568033888936,\n",
              " 0.03994556050747633,\n",
              " 0.03971950616687536,\n",
              " 0.03949842264410108,\n",
              " 0.039279881049878895,\n",
              " 0.039063707808963954,\n",
              " 0.038847242132760584,\n",
              " 0.03863570967223495,\n",
              " 0.0384235616074875,\n",
              " 0.03821728611364961,\n",
              " 0.038011322962120175,\n",
              " 0.037807295680977404,\n",
              " 0.03760463511571288,\n",
              " 0.03740615281276405,\n",
              " 0.03720696025993675,\n",
              " 0.03701185353565961,\n",
              " 0.03681706450879574,\n",
              " 0.03662438481114805,\n",
              " 0.03643550933338702,\n",
              " 0.03624588786624372,\n",
              " 0.03605984861496836,\n",
              " 0.03587629843968898,\n",
              " 0.035691263154149055,\n",
              " 0.0355106636416167,\n",
              " 0.03533082164358348,\n",
              " 0.03515266627073288,\n",
              " 0.03497635491658002,\n",
              " 0.03480300318915397,\n",
              " 0.03462844667956233,\n",
              " 0.034458437003195286,\n",
              " 0.034287392627447844,\n",
              " 0.03412001789547503,\n",
              " 0.03395223163533956,\n",
              " 0.03378758509643376,\n",
              " 0.0336234524147585,\n",
              " 0.03346190229058266,\n",
              " 0.03329953085631132,\n",
              " 0.033141366322524846,\n",
              " 0.032983564655296504,\n",
              " 0.032826656475663185,\n",
              " 0.032671591150574386,\n",
              " 0.03251816611737013,\n",
              " 0.03236560628283769,\n",
              " 0.032214278471656144,\n",
              " 0.03206472529564053,\n",
              " 0.03191563754808158,\n",
              " 0.03176810638979077,\n",
              " 0.031624067574739456,\n",
              " 0.03147747437469661,\n",
              " 0.03133572463411838,\n",
              " 0.031192312482744455,\n",
              " 0.031051727128215134,\n",
              " 0.030912632239051163,\n",
              " 0.03077301918528974,\n",
              " 0.03063580149319023,\n",
              " 0.03049919451586902,\n",
              " 0.030364947859197855,\n",
              " 0.030230930424295366,\n",
              " 0.030097206588834524,\n",
              " 0.029966625734232366,\n",
              " 0.029835282708518207,\n",
              " 0.029704827582463622,\n",
              " 0.029577748733572662,\n",
              " 0.029448929941281676,\n",
              " 0.029323210357688367,\n",
              " 0.029198082047514617,\n",
              " 0.029072920908220112,\n",
              " 0.028949698200449347,\n",
              " 0.028826753259636462,\n",
              " 0.02870541124138981,\n",
              " 0.02858542581088841,\n",
              " 0.028465872746892273,\n",
              " 0.028346747159957886,\n",
              " 0.028229171526618302,\n",
              " 0.02811248181387782,\n",
              " 0.02799644134938717,\n",
              " 0.027881560497917235,\n",
              " 0.02776783925946802,\n",
              " 0.027653434430249035,\n",
              " 0.027542252675630152,\n",
              " 0.02743003738578409,\n",
              " 0.02732050057966262,\n",
              " 0.027210454922169447,\n",
              " 0.027101337327621877,\n",
              " 0.02699311380274594,\n",
              " 0.02688549633603543,\n",
              " 0.026778713916428387,\n",
              " 0.02667353267315775,\n",
              " 0.02656834793742746,\n",
              " 0.02646498172543943,\n",
              " 0.02636086638085544,\n",
              " 0.026258421945385635,\n",
              " 0.02615684736520052,\n",
              " 0.026055466732941568,\n",
              " 0.025955326855182648,\n",
              " 0.025855472311377525,\n",
              " 0.025756952702067792,\n",
              " 0.025658467318862677,\n",
              " 0.0255617571529001,\n",
              " 0.025464256876148283,\n",
              " 0.025368671980686486,\n",
              " 0.025272730854339898,\n",
              " 0.02517823060043156,\n",
              " 0.02508449286688119,\n",
              " 0.024990762816742063,\n",
              " 0.024897957569919527,\n",
              " 0.02480660646688193,\n",
              " 0.024714709143154323,\n",
              " 0.024623832083307207,\n",
              " 0.02453403570689261,\n",
              " 0.02444382628891617,\n",
              " 0.024355785571970046,\n",
              " 0.024267244152724743,\n",
              " 0.02417921053711325,\n",
              " 0.024092659121379256,\n",
              " 0.024005269049666822,\n",
              " 0.023920507170259953,\n",
              " 0.02383451722562313,\n",
              " 0.023749563610181212,\n",
              " 0.02366590721067041,\n",
              " 0.023581370012834668,\n",
              " 0.023498862865380943,\n",
              " 0.0234157721279189,\n",
              " 0.023334421566687524,\n",
              " 0.02325266902334988,\n",
              " 0.023172269575297832,\n",
              " 0.0230917411390692,\n",
              " 0.023011486395262182,\n",
              " 0.022932604770176113,\n",
              " 0.022853292408399284,\n",
              " 0.022775297285988927,\n",
              " 0.02269789786078036,\n",
              " 0.02262042136862874,\n",
              " 0.02254361310042441,\n",
              " 0.022467239759862423,\n",
              " 0.022391585167497396,\n",
              " 0.022316050017252564,\n",
              " 0.02224189229309559,\n",
              " 0.022166915703564882,\n",
              " 0.022093590814620256,\n",
              " 0.022019957075826824,\n",
              " 0.021946672932244837,\n",
              " 0.02187480963766575,\n",
              " 0.02180281188338995,\n",
              " 0.021730610402300954,\n",
              " 0.021659980062395334,\n",
              " 0.02158862620126456,\n",
              " 0.02151882229372859,\n",
              " 0.021449193358421326,\n",
              " 0.021379645448178053,\n",
              " 0.021310556447133422,\n",
              " 0.021242008078843355,\n",
              " 0.02117393584921956,\n",
              " 0.02110634814016521,\n",
              " 0.021039132494479418,\n",
              " 0.020972083788365126,\n",
              " 0.0209056728053838,\n",
              " 0.020839675678871572,\n",
              " 0.02077387971803546,\n",
              " 0.020708678290247917,\n",
              " 0.02064381563104689,\n",
              " 0.0205791094340384,\n",
              " 0.02051516983192414,\n",
              " 0.020451363758184016,\n",
              " 0.020388046512380242,\n",
              " 0.02032507851254195,\n",
              " 0.020262596779502928,\n",
              " 0.02020023891236633,\n",
              " 0.02013826137408614,\n",
              " 0.02007704775314778,\n",
              " 0.02001534402370453,\n",
              " 0.019954934949055314,\n",
              " 0.01989451504778117,\n",
              " 0.0198341331561096,\n",
              " 0.019774860295001417,\n",
              " 0.019714747148100287,\n",
              " 0.019656094955280423,\n",
              " 0.01959725091001019,\n",
              " 0.01953853206941858,\n",
              " 0.019480738323181868,\n",
              " 0.01942282187519595,\n",
              " 0.01936552271945402,\n",
              " 0.019308273040223867,\n",
              " 0.019251842342782766,\n",
              " 0.01919508131686598,\n",
              " 0.019138866860885173,\n",
              " 0.01908310950966552,\n",
              " 0.019027768343221396,\n",
              " 0.018972112506162375,\n",
              " 0.018917335954029113,\n",
              " 0.018862649390939623,\n",
              " 0.018808423134032637,\n",
              " 0.018754474411252886,\n",
              " 0.018700714746955782,\n",
              " 0.018647467775736004,\n",
              " 0.018594211374875158,\n",
              " 0.018541313416790217,\n",
              " 0.018488946312572807,\n",
              " 0.018436259822919965,\n",
              " 0.018384821654763073,\n",
              " 0.01833274430828169,\n",
              " 0.0182815573643893,\n",
              " 0.018229994864668697,\n",
              " 0.018179474805947393,\n",
              " 0.018128577910829335,\n",
              " 0.018078014545608312,\n",
              " 0.018028116086497903,\n",
              " 0.017978343879804015,\n",
              " 0.017928509681951255,\n",
              " 0.017879546445328742,\n",
              " 0.017830276919994503,\n",
              " 0.017781840404495597,\n",
              " 0.01773284235969186,\n",
              " 0.017684896010905504,\n",
              " 0.017636718170251697,\n",
              " 0.017588762391824275,\n",
              " 0.017541387351229787,\n",
              " 0.017494133790023625,\n",
              " 0.01744666282320395,\n",
              " 0.017400457174517214,\n",
              " 0.017353640461806208,\n",
              " 0.017307034227997065,\n",
              " 0.017260977416299284,\n",
              " 0.017215014377143234,\n",
              " 0.017169606930110604,\n",
              " 0.01712409476749599,\n",
              " 0.017078814387787133,\n",
              " 0.017033867305144668,\n",
              " 0.01698910351842642,\n",
              " 0.016944580420386046,\n",
              " 0.01690049673197791,\n",
              " 0.01685643260134384,\n",
              " 0.016812484653200954,\n",
              " 0.016769025824032724,\n",
              " 0.01672527036862448,\n",
              " 0.016682179179042578,\n",
              " 0.01663915312383324,\n",
              " 0.01659629214555025,\n",
              " 0.016553917957935482,\n",
              " 0.016511376714333892,\n",
              " 0.01646952162263915,\n",
              " 0.01642714667832479,\n",
              " 0.016385782219003886,\n",
              " 0.016343903436791152,\n",
              " 0.016302548872772604,\n",
              " 0.016261584707535803,\n",
              " 0.016220509074628353,\n",
              " 0.016179989208467305,\n",
              " 0.016139191633556038,\n",
              " 0.01609882479533553,\n",
              " 0.016058724431786686,\n",
              " 0.016018606955185533,\n",
              " 0.015978955838363618,\n",
              " 0.015939138655085117,\n",
              " 0.015899763617198914,\n",
              " 0.015860896732192487,\n",
              " 0.01582145073916763,\n",
              " 0.015782847185619175,\n",
              " 0.015743944328278303,\n",
              " 0.015705514466390014,\n",
              " 0.015667452884372324,\n",
              " 0.015628998982720077,\n",
              " 0.015591044502798468,\n",
              " 0.015553475124761462,\n",
              " 0.015515580482315272,\n",
              " 0.015478220651857555,\n",
              " 0.015441215655300766,\n",
              " 0.015403764205984771,\n",
              " 0.015367211191914976,\n",
              " 0.015330121968872845,\n",
              " 0.015293803357053548,\n",
              " 0.01525711000431329,\n",
              " 0.015220929752103984,\n",
              " 0.01518482412211597,\n",
              " 0.015148940263316035,\n",
              " 0.015113251225557178,\n",
              " 0.015077639778610319,\n",
              " 0.015042058192193508,\n",
              " 0.015006668807473034,\n",
              " 0.014971751719713211,\n",
              " 0.01493681303691119,\n",
              " 0.014901898335665464,\n",
              " 0.014867530961055309,\n",
              " 0.01483297994127497,\n",
              " 0.01479850837495178,\n",
              " 0.014764363353606313,\n",
              " 0.014730341441463679,\n",
              " 0.014696138037834316,\n",
              " 0.014662780740763992,\n",
              " 0.014628779143095016,\n",
              " 0.014595766260754317,\n",
              " 0.014562134398147464,\n",
              " 0.01452904735924676,\n",
              " 0.01449592737480998,\n",
              " 0.014463180443271995,\n",
              " 0.014430230658035725,\n",
              " 0.014397906954400241,\n",
              " 0.014365312934387475,\n",
              " 0.014333149010781199,\n",
              " 0.014300954877398908,\n",
              " 0.014268931176047772,\n",
              " 0.014236886228900403,\n",
              " 0.014205336570739746,\n",
              " 0.014173539413604885,\n",
              " 0.014142132247798145,\n",
              " 0.014110607793554664,\n",
              " 0.014079669956117868,\n",
              " 0.014048421813640743,\n",
              " 0.014017486188095063,\n",
              " 0.013986701029352844,\n",
              " 0.013955824833828956,\n",
              " 0.01392561785178259,\n",
              " 0.013894955744035542,\n",
              " 0.013864798529539257,\n",
              " 0.013834567624144256,\n",
              " 0.013804542424622923,\n",
              " 0.01377438846975565,\n",
              " 0.013744698255322874,\n",
              " 0.013714969798456877,\n",
              " 0.013685513287782669,\n",
              " 0.013655835296958685,\n",
              " 0.013626922969706357,\n",
              " 0.013597374898381531,\n",
              " 0.01356834644684568,\n",
              " 0.013539408100768924,\n",
              " 0.013510363700333983,\n",
              " 0.013481939444318414,\n",
              " 0.013453063555061817,\n",
              " 0.013424918171949685,\n",
              " 0.013396090711466968,\n",
              " 0.013368081708904356,\n",
              " 0.013339830213226378,\n",
              " 0.013311840302776545,\n",
              " 0.013283924898132682,\n",
              " 0.013256232137791812,\n",
              " 0.013228344265371561,\n",
              " 0.013200810935813934,\n",
              " 0.013173312006983906,\n",
              " 0.013145787757821381,\n",
              " 0.013118725386448205,\n",
              " 0.013091395434457809,\n",
              " 0.01306439924519509,\n",
              " 0.01303763035684824,\n",
              " 0.013010511000175029,\n",
              " 0.012983866850845516,\n",
              " 0.012957256170921028,\n",
              " 0.012930802535265684,\n",
              " 0.012904362112749368,\n",
              " 0.012877904460765421,\n",
              " 0.012851868523284793,\n",
              " 0.012825601967051625,\n",
              " 0.012799567077308893,\n",
              " 0.012773720256518573,\n",
              " 0.012747838627547026,\n",
              " 0.012722346116788685,\n",
              " 0.012696474965196103,\n",
              " 0.012671067554038018,\n",
              " 0.012645515496842563,\n",
              " 0.012620437308214605,\n",
              " 0.012594887579325587,\n",
              " 0.012569958111271262,\n",
              " 0.012544845987576991,\n",
              " 0.012519950920250267,\n",
              " 0.012495078961364925,\n",
              " 0.012470311659853905,\n",
              " 0.01244571345159784,\n",
              " 0.012420982238836586,\n",
              " 0.012396681995596737,\n",
              " 0.012372258177492768,\n",
              " 0.01234797335928306,\n",
              " 0.012323786271736026,\n",
              " 0.012299475725740194,\n",
              " 0.012275672750547528,\n",
              " 0.012251766107510775,\n",
              " 0.012227963365148753,\n",
              " 0.012204160739202052,\n",
              " 0.012180515157524496,\n",
              " 0.012156819517258555,\n",
              " 0.012133513926528394,\n",
              " 0.012110079172998667,\n",
              " 0.012086754548363388,\n",
              " 0.01206349377753213,\n",
              " 0.012040405708830804,\n",
              " 0.01201747270533815,\n",
              " 0.011994213797152042,\n",
              " 0.01197167590726167,\n",
              " 0.011948600294999778,\n",
              " 0.011925973405595869,\n",
              " 0.011903393198736012,\n",
              " 0.011880723293870687,\n",
              " 0.011858270561788231,\n",
              " 0.011835883953608572,\n",
              " 0.011813626566436142,\n",
              " 0.011791312077548355,\n",
              " 0.011769390490371734,\n",
              " 0.011747103708330542,\n",
              " 0.011725205520633608,\n",
              " 0.01170312921749428,\n",
              " 0.011681420262902975,\n",
              " 0.011659671319648623,\n",
              " 0.011637996532954276,\n",
              " 0.011616396252065897,\n",
              " 0.011594842828344554,\n",
              " 0.011573419033084065,\n",
              " 0.01155209681019187,\n",
              " 0.011530785937793553,\n",
              " 0.011509565985761583,\n",
              " 0.011488409829325974,\n",
              " 0.01146730303298682,\n",
              " 0.011446435877587646,\n",
              " 0.011425398872233927,\n",
              " 0.011404606280848384,\n",
              " 0.011383678240235895,\n",
              " 0.011363033787347376,\n",
              " 0.011342434969265014,\n",
              " 0.011321925732772797,\n",
              " 0.011301380058284849,\n",
              " 0.011280957027338445,\n",
              " 0.01126073842169717,\n",
              " 0.011240352061577141,\n",
              " 0.011220078158657998,\n",
              " 0.011200051405467093,\n",
              " 0.01118006429169327,\n",
              " 0.011160028749145567,\n",
              " 0.011140127608086914,\n",
              " 0.011120138107798994,\n",
              " 0.011100364325102419,\n",
              " 0.01108067884342745,\n",
              " 0.01106093474663794,\n",
              " 0.011041600548196584,\n",
              " 0.011021788173820823,\n",
              " 0.011002481449395418,\n",
              " 0.01098297513090074,\n",
              " 0.010963685694150627,\n",
              " 0.010944419889710844,\n",
              " 0.010925234702881426,\n",
              " 0.010906168492510915,\n",
              " 0.010887000360526145,\n",
              " 0.010868069832213223,\n",
              " 0.010849031852558255,\n",
              " 0.010830333165358752,\n",
              " 0.01081144146155566,\n",
              " 0.010792710992973298,\n",
              " 0.010773957590572536,\n",
              " 0.010755341965705156,\n",
              " 0.0107367520686239,\n",
              " 0.010718310601077974,\n",
              " 0.010699838283471763,\n",
              " 0.010681509273126721,\n",
              " 0.010663048829883337,\n",
              " 0.010644910100381821,\n",
              " 0.010626617877278477,\n",
              " 0.010608470009174198,\n",
              " 0.010590511199552566,\n",
              " 0.010572278406471014,\n",
              " 0.010554579261224717,\n",
              " 0.010536427434999496,\n",
              " 0.0105186328291893,\n",
              " 0.01050084235612303,\n",
              " 0.010483104910235852,\n",
              " 0.010465324856340885,\n",
              " 0.010447714652400464,\n",
              " 0.010430167079903185,\n",
              " 0.010412618750706315,\n",
              " 0.010395195917226374,\n",
              " 0.010377785889431834,\n",
              " 0.010360525164287537,\n",
              " 0.010343123751226813,\n",
              " 0.010325951792765409,\n",
              " 0.010308682220056653,\n",
              " 0.010291576094459742,\n",
              " 0.010274506115820259,\n",
              " 0.010257438756525517,\n",
              " 0.010240566392894834,\n",
              " 0.010223592747934163,\n",
              " 0.010206775856204331,\n",
              " 0.01018983160611242,\n",
              " 0.010173263493925333,\n",
              " 0.010156395728699863,\n",
              " 0.010139810561668128,\n",
              " 0.010123219573870301,\n",
              " 0.010106594127137214,\n",
              " 0.010090328025398776,\n",
              " 0.010073715646285564,\n",
              " 0.010057440638775006,\n",
              " 0.010040964552899823,\n",
              " 0.010024608636740595,\n",
              " 0.010008593526436016,\n",
              " 0.009992217208491638,\n",
              " 0.009976188826840371,\n",
              " 0.009960116673028097,\n",
              " 0.00994406736572273,\n",
              " 0.00992808843147941,\n",
              " 0.009912119887303561,\n",
              " 0.009896315285004675,\n",
              " 0.009880344790872186,\n",
              " 0.009864768042461947,\n",
              " 0.009848799265455455,\n",
              " 0.009833181917201728,\n",
              " 0.009817557816859335,\n",
              " 0.009801957377931103,\n",
              " 0.00978641418623738,\n",
              " 0.009770863078301772,\n",
              " 0.00975538743659854,\n",
              " 0.00973997893743217,\n",
              " 0.009724566974909976,\n",
              " 0.009709241043310612,\n",
              " 0.009694053005659953,\n",
              " 0.009678671543952078,\n",
              " 0.009663647302659228,\n",
              " 0.009648397186538205,\n",
              " 0.009633354027755558,\n",
              " 0.009618323325412348,\n",
              " 0.009603273298125714,\n",
              " 0.009588336368324235,\n",
              " 0.00957334172562696,\n",
              " 0.009558570745866746,\n",
              " 0.009543652442516759,\n",
              " 0.009528951544780284,\n",
              " 0.009514146397123113,\n",
              " 0.009499389969278127,\n",
              " 0.00948478456120938,\n",
              " 0.009470149438129738,\n",
              " 0.009455628955038264,\n",
              " 0.009441162139410153,\n",
              " 0.009426637145224959,\n",
              " 0.009412112878635526,\n",
              " 0.009397796617122367,\n",
              " 0.009383339987834916,\n",
              " 0.009369142906507477,\n",
              " 0.009354788373457268,\n",
              " 0.009340569988125935,\n",
              " 0.009326428145868704,\n",
              " 0.009312301379395649,\n",
              " 0.009298159187892452,\n",
              " 0.009284160158131272,\n",
              " 0.009269948088331148,\n",
              " 0.009256082616047934,\n",
              " 0.00924214895348996,\n",
              " 0.00922816462116316,\n",
              " 0.00921435674536042,\n",
              " 0.009200523141771555,\n",
              " 0.009186791576212272,\n",
              " 0.009173007070785388,\n",
              " 0.009159296954749152,\n",
              " 0.009145589108811691,\n",
              " 0.009132017003139481,\n",
              " 0.009118442743783817,\n",
              " 0.009104879427468404,\n",
              " 0.009091256564715877,\n",
              " 0.00907789499615319,\n",
              " 0.009064429468708113,\n",
              " 0.009051082684891298,\n",
              " 0.009037644864292815,\n",
              " 0.009024364146171138,\n",
              " 0.00901106491801329,\n",
              " 0.008997830940643325,\n",
              " 0.008984573767520487,\n",
              " 0.008971433358965442,\n",
              " 0.00895829705405049,\n",
              " 0.00894518251880072,\n",
              " 0.008932227152399719,\n",
              " 0.008919165906263515,\n",
              " 0.008906159258913249,\n",
              " 0.00889329524943605,\n",
              " 0.008880299923475832,\n",
              " 0.008867404365446419,\n",
              " 0.008854506420902908,\n",
              " 0.008841935807140544,\n",
              " 0.008829069847706705,\n",
              " 0.008816366113023832,\n",
              " 0.008803554985206574,\n",
              " 0.00879093588446267,\n",
              " 0.008778352668741718,\n",
              " 0.008765733684413135,\n",
              " 0.008753193018492311,\n",
              " 0.008740686549572274,\n",
              " 0.008728135464480147,\n",
              " 0.008715615957044065,\n",
              " 0.00870328169548884,\n",
              " 0.0086908406810835,\n",
              " 0.008678459911607206,\n",
              " 0.008666221372550353,\n",
              " 0.008653835888253525,\n",
              " 0.008641591266496107,\n",
              " 0.00862940339720808,\n",
              " 0.008617190440418199,\n",
              " 0.008605038950918242,\n",
              " 0.00859300876618363,\n",
              " 0.008580855530453846,\n",
              " 0.008568867575377226,\n",
              " 0.00855668427539058,\n",
              " 0.008544783719116822,\n",
              " 0.008532768464647233,\n",
              " 0.008520853094523773,\n",
              " 0.008509118517395109,\n",
              " 0.0084970522148069,\n",
              " 0.00848542180028744,\n",
              " 0.008473483205307275,\n",
              " 0.008461691031698138,\n",
              " 0.008449975866824389,\n",
              " 0.008438224031124264,\n",
              " 0.008426515181781724,\n",
              " 0.00841498898807913,\n",
              " 0.008403345622355118,\n",
              " 0.008391798153752461,\n",
              " 0.008380112732993439,\n",
              " 0.0083686753641814,\n",
              " 0.008357166312634945,\n",
              " 0.008345678768819198,\n",
              " 0.008334290876518935,\n",
              " 0.00832278557936661,\n",
              " 0.008311442594276741,\n",
              " 0.008300199173390865,\n",
              " 0.008288838987937197,\n",
              " 0.008277657529106364,\n",
              " 0.008266239427030087,\n",
              " 0.00825505779357627,\n",
              " 0.00824388035107404,\n",
              " 0.008232679567299783,\n",
              " 0.008221570256864652,\n",
              " 0.00821044176700525,\n",
              " 0.008199392177630216,\n",
              " 0.008188251231331378,\n",
              " 0.008177245879778638,\n",
              " 0.008166312851244584,\n",
              " 0.008155329007422552,\n",
              " 0.008144340943545103,\n",
              " 0.008133475901558995,\n",
              " 0.008122572966385633,\n",
              " 0.008111667732009664,\n",
              " 0.00810086278943345,\n",
              " 0.00809004038455896,\n",
              " 0.008079373597865924,\n",
              " 0.00806857249699533,\n",
              " 0.00805782905081287,\n",
              " 0.008047161682043225,\n",
              " 0.008036403509322554,\n",
              " 0.00802586623467505,\n",
              " 0.008015231433091685,\n",
              " 0.008004713337868452,\n",
              " 0.007994162937393412,\n",
              " 0.007983527990290895,\n",
              " 0.007973031140863895,\n",
              " 0.007962600415339693,\n",
              " 0.007952152169309556,\n",
              " 0.007941681164084002,\n",
              " 0.007931301166536286,\n",
              " 0.00792097460362129,\n",
              " 0.007910634943982586,\n",
              " 0.007900367927504703,\n",
              " 0.007889890170190483,\n",
              " 0.007879740063799545,\n",
              " 0.007869579218095168,\n",
              " 0.007859127159463242,\n",
              " 0.007849074580008164,\n",
              " 0.007838869234547019,\n",
              " 0.007828723319107667,\n",
              " 0.007818590238457546,\n",
              " 0.007808501599356532,\n",
              " 0.00779843216878362,\n",
              " 0.007788388145854697,\n",
              " 0.007778395840432495,\n",
              " 0.007768317620502785,\n",
              " 0.0077584101527463645,\n",
              " 0.007748578762402758,\n",
              " 0.007738539366982877,\n",
              " 0.007728614640654996,\n",
              " 0.00771880047977902,\n",
              " 0.00770890130661428,\n",
              " 0.007699008099734783,\n",
              " 0.00768926233286038,\n",
              " 0.00767949060536921,\n",
              " 0.007669710728805512,\n",
              " 0.0076601283508352935,\n",
              " 0.00765034623327665,\n",
              " 0.007640591560630128,\n",
              " 0.0076310092699714005,\n",
              " 0.007621350523550063,\n",
              " 0.0076117998687550426,\n",
              " 0.007602185854921117,\n",
              " 0.007592720416141674,\n",
              " 0.007583044556668028,\n",
              " 0.0075735961145255715,\n",
              " 0.007564062747405842,\n",
              " 0.007554567913757637,\n",
              " 0.007545159838628024,\n",
              " 0.007535741460742429,\n",
              " 0.007526256842538714,\n",
              " 0.007516859448514879,\n",
              " 0.007507585542043671,\n",
              " 0.007498222345020622,\n",
              " 0.007488861272577196,\n",
              " 0.007479700201656669,\n",
              " 0.007470245385775343,\n",
              " 0.007461113971658051,\n",
              " 0.0074518402689136565,\n",
              " 0.007442636240739375,\n",
              " 0.007433479622704908,\n",
              " 0.007424348092172295,\n",
              " 0.007415163330733776,\n",
              " 0.007406095770420507,\n",
              " 0.007396951783448458,\n",
              " 0.007387839374132454,\n",
              " 0.007378765498287976,\n",
              " 0.007369789120275527,\n",
              " 0.007360793970292434,\n",
              " 0.007351807144004852,\n",
              " 0.007342705619521439,\n",
              " 0.007333893241593614,\n",
              " 0.0073249193374067545,\n",
              " 0.007315987546462566,\n",
              " 0.007307071180548519,\n",
              " 0.007298248121514916,\n",
              " 0.0072894166223704815,\n",
              " 0.007280602352693677,\n",
              " 0.007271757931448519,\n",
              " 0.0072629730275366455,\n",
              " 0.007254273717990145,\n",
              " 0.007245482440339401,\n",
              " 0.0072367359534837306,\n",
              " 0.007228083210065961,\n",
              " 0.007219307066407055,\n",
              " 0.007210735057014972,\n",
              " 0.007202031003544107,\n",
              " 0.007193425175501034,\n",
              " 0.007184844464063644,\n",
              " 0.00717626407276839,\n",
              " 0.007167681324062869,\n",
              " 0.007159117725677788,\n",
              " 0.007150615943828598,\n",
              " 0.007142133195884526,\n",
              " 0.00713363362592645,\n",
              " 0.007125146628823131,\n",
              " 0.0071167425194289535,\n",
              " 0.007108240912202746,\n",
              " 0.0070998430892359465,\n",
              " 0.007091437029885128,\n",
              " 0.007083039381541312,\n",
              " 0.007074665307300165,\n",
              " 0.007066437829053029,\n",
              " 0.007058069866616279,\n",
              " 0.007049755280604586,\n",
              " 0.007041491597192362,\n",
              " 0.0070332644681911916,\n",
              " 0.007024983497103676,\n",
              " 0.007016847666818649,\n",
              " 0.0070085712359286845,\n",
              " 0.00700036931084469,\n",
              " 0.006992214184720069,\n",
              " 0.006984014267800376,\n",
              " 0.006975850759772584,\n",
              " 0.006967789144255221,\n",
              " 0.006959742488106713,\n",
              " 0.006951578892767429,\n",
              " 0.006943623680854216,\n",
              " 0.006935555953532457,\n",
              " 0.006927525973878801,\n",
              " 0.00691950527834706,\n",
              " 0.006911492469953373,\n",
              " 0.006903547968249768,\n",
              " 0.0068955331516917795,\n",
              " 0.006887688592541963,\n",
              " 0.006879769323859364,\n",
              " 0.006871877965750173,\n",
              " 0.006864022987429053,\n",
              " 0.00685602510930039,\n",
              " 0.00684831672697328,\n",
              " 0.006840410700533539,\n",
              " 0.0068325509200803936]"
            ]
          },
          "metadata": {},
          "execution_count": 23
        }
      ]
    },
    {
      "cell_type": "code",
      "source": [
        "torch.save(trained_model.state_dict(), \"../transfer_model_src.pth\")"
      ],
      "metadata": {
        "id": "gBd88PIc5d-m"
      },
      "execution_count": null,
      "outputs": []
    },
    {
      "cell_type": "code",
      "source": [
        "#trained_model = model.load_state_dict(torch.load(\"../transfer_model_src.pth\"))"
      ],
      "metadata": {
        "id": "LtWLcrTK68gA"
      },
      "execution_count": null,
      "outputs": []
    },
    {
      "cell_type": "markdown",
      "metadata": {
        "id": "W8NwQ7-fikwA"
      },
      "source": [
        "## Finetuning/Transfering the model to target dataset"
      ]
    },
    {
      "cell_type": "code",
      "execution_count": null,
      "metadata": {
        "id": "-CKeQfMRjfLm"
      },
      "outputs": [],
      "source": [
        "# target dataset - Simran\n",
        "data = read_csv('Wine/Wine_TRAIN', header=None)\n",
        "x_train, y_train, batch_size, nb_classes = data_loader_ucr(data, 16)\n",
        "\n",
        "nb_classes_target = len(nb_classes)"
      ]
    },
    {
      "cell_type": "code",
      "source": [
        "# Number of batches for target dataet\n",
        "print(len(x_train))\n",
        "\n",
        "# batch size in the target dataet\n",
        "print(len(x_train[0]))\n",
        "\n",
        "# length of a time series in the target dataet\n",
        "print(len(x_train[0][0]))"
      ],
      "metadata": {
        "colab": {
          "base_uri": "https://localhost:8080/"
        },
        "id": "xHIBNTwszyD1",
        "outputId": "51b4f67f-18ab-43a3-f6cb-63cb500dcf90"
      },
      "execution_count": null,
      "outputs": [
        {
          "output_type": "stream",
          "name": "stdout",
          "text": [
            "16\n",
            "4\n",
            "234\n"
          ]
        }
      ]
    },
    {
      "cell_type": "code",
      "source": [
        "input_shape = (len(x_train[0][0]), 1)\n",
        "print(input_shape)"
      ],
      "metadata": {
        "colab": {
          "base_uri": "https://localhost:8080/"
        },
        "id": "7dk81WnmkEa_",
        "outputId": "07420c4b-15f5-4a17-b8ba-6703b13321b1"
      },
      "execution_count": null,
      "outputs": [
        {
          "output_type": "stream",
          "name": "stdout",
          "text": [
            "(234, 1)\n"
          ]
        }
      ]
    },
    {
      "cell_type": "code",
      "source": [
        "trained_model.output_layer.in_features"
      ],
      "metadata": {
        "colab": {
          "base_uri": "https://localhost:8080/"
        },
        "id": "9f6KjY1tgYX-",
        "outputId": "6aee3cd9-b34f-44b2-ffe5-ffeedac0f428"
      },
      "execution_count": null,
      "outputs": [
        {
          "output_type": "execute_result",
          "data": {
            "text/plain": [
              "128"
            ]
          },
          "metadata": {},
          "execution_count": 28
        }
      ]
    },
    {
      "cell_type": "code",
      "execution_count": null,
      "metadata": {
        "id": "0aDHn410jHxJ"
      },
      "outputs": [],
      "source": [
        "num_ftrs                    = trained_model.output_layer.in_features\n",
        "trained_model.conv1         = nn.Conv1d(in_channels=input_shape[0], out_channels=128, kernel_size=8, padding='same')\n",
        "trained_model.output_layer  = nn.Sequential(\n",
        "                                nn.Linear(num_ftrs, nb_classes_target),\n",
        "                                nn.Softmax(dim=1)\n",
        "                              )"
      ]
    },
    {
      "cell_type": "code",
      "execution_count": null,
      "metadata": {
        "id": "BYgNlu3gigrk",
        "colab": {
          "base_uri": "https://localhost:8080/",
          "height": 66,
          "referenced_widgets": [
            "2c4cfb868ace4be881453ba87ee430c0",
            "f7a1790aa9a64a3b8201782e247d4945",
            "eae529189d71480f992312151b561938",
            "628ec8a76ee846939d5f4120e0d13275",
            "2a0f688ee89c440986f4acd4541a3fa0",
            "7ccee0796d764325b74daa5364bd7f74",
            "c8a2c622f23046c8b1393f5aa0dbe554",
            "9074f8bcf6f449e48b005b09dc4a71c1",
            "27cbee6d51734cb6aa4adadf726b3e83",
            "4d74621e00774d7a8255d9e68e7e47b9",
            "94063d8a75224eeb97bea35ed9f12aec"
          ]
        },
        "outputId": "70a265f0-a876-48f0-abe3-25b51c274829"
      },
      "outputs": [
        {
          "output_type": "display_data",
          "data": {
            "text/plain": [
              "  0%|          | 0/25 [00:00<?, ?it/s]"
            ],
            "application/vnd.jupyter.widget-view+json": {
              "version_major": 2,
              "version_minor": 0,
              "model_id": "2c4cfb868ace4be881453ba87ee430c0"
            }
          },
          "metadata": {}
        },
        {
          "output_type": "stream",
          "name": "stdout",
          "text": [
            "Epoch 24"
          ]
        }
      ],
      "source": [
        "batch_size  = 16\n",
        "nb_epochs   = 50\n",
        "lr          = 1e-4\n",
        "verbose     = False\n",
        "\n",
        "loss, transfer_model = train_model(trained_model, x_train, y_train, nb_epochs)"
      ]
    },
    {
      "cell_type": "code",
      "source": [
        "torch.save(transfer_model.state_dict(), \"../finetuned_model.pth\")"
      ],
      "metadata": {
        "id": "03NAnJ-z_MDi"
      },
      "execution_count": null,
      "outputs": []
    },
    {
      "cell_type": "markdown",
      "source": [
        "# Testing on target dataset"
      ],
      "metadata": {
        "id": "JVrCRpOt3End"
      }
    },
    {
      "cell_type": "code",
      "source": [
        "data = read_csv('Wine/Wine_TEST', header=None)"
      ],
      "metadata": {
        "id": "jCZ2dQjnCQ_2"
      },
      "execution_count": null,
      "outputs": []
    },
    {
      "cell_type": "code",
      "source": [
        "x_test = data.loc[:,1:]\n",
        "y_test = data.loc[:,:0]"
      ],
      "metadata": {
        "id": "0STsXfPUCSDK"
      },
      "execution_count": null,
      "outputs": []
    },
    {
      "cell_type": "code",
      "source": [
        "x_test.shape"
      ],
      "metadata": {
        "colab": {
          "base_uri": "https://localhost:8080/"
        },
        "id": "69z1xBxw4u0L",
        "outputId": "36096bc7-bb6e-4879-dbf2-571eab2b40b2"
      },
      "execution_count": null,
      "outputs": [
        {
          "output_type": "execute_result",
          "data": {
            "text/plain": [
              "(54, 234)"
            ]
          },
          "metadata": {},
          "execution_count": 34
        }
      ]
    },
    {
      "cell_type": "code",
      "source": [
        "y_test.shape"
      ],
      "metadata": {
        "colab": {
          "base_uri": "https://localhost:8080/"
        },
        "id": "NTbCZQWQNJp5",
        "outputId": "3f4e329e-59ef-4128-a27f-4bfda3f4dd67"
      },
      "execution_count": null,
      "outputs": [
        {
          "output_type": "execute_result",
          "data": {
            "text/plain": [
              "(54, 1)"
            ]
          },
          "metadata": {},
          "execution_count": 35
        }
      ]
    },
    {
      "cell_type": "code",
      "source": [
        "x_test, y_test, batch_size, nb_classes = data_loader_ucr(data, 1)"
      ],
      "metadata": {
        "id": "66RNbCyq6DKu"
      },
      "execution_count": null,
      "outputs": []
    },
    {
      "cell_type": "code",
      "source": [
        "len(x_test)"
      ],
      "metadata": {
        "colab": {
          "base_uri": "https://localhost:8080/"
        },
        "id": "wM38ceET0umv",
        "outputId": "dba6fc63-783a-4e1b-a274-5c21a3b6138e"
      },
      "execution_count": null,
      "outputs": [
        {
          "output_type": "execute_result",
          "data": {
            "text/plain": [
              "1"
            ]
          },
          "metadata": {},
          "execution_count": 40
        }
      ]
    },
    {
      "cell_type": "code",
      "source": [
        "x_test[0].shape"
      ],
      "metadata": {
        "colab": {
          "base_uri": "https://localhost:8080/"
        },
        "id": "covKdUXn7737",
        "outputId": "d0343776-0c90-4bf3-9f4e-2298b52f68fe"
      },
      "execution_count": null,
      "outputs": [
        {
          "output_type": "execute_result",
          "data": {
            "text/plain": [
              "torch.Size([54, 234, 1])"
            ]
          },
          "metadata": {},
          "execution_count": 41
        }
      ]
    },
    {
      "cell_type": "code",
      "source": [
        "x_test  = x_test[0]\n",
        "x_test  = x_test.to(device)\n",
        "\n",
        "y_test  = y_test[0]\n",
        "y_test  = y_test - 1\n",
        "y_test  = y_test.to(device)"
      ],
      "metadata": {
        "id": "ffUxLnJV3nHM"
      },
      "execution_count": null,
      "outputs": []
    },
    {
      "cell_type": "code",
      "source": [
        "with torch.no_grad():\n",
        "  transfer_model.eval()\n",
        "\n",
        "  y_pred    = transfer_model(x_test)\n",
        "  test_loss = transfer_model.criterion(y_pred, y_test)\n",
        "  print('test loss is {}'.format(test_loss))"
      ],
      "metadata": {
        "colab": {
          "base_uri": "https://localhost:8080/"
        },
        "id": "m-zeCPNUiyC5",
        "outputId": "c427ec08-68f1-41d2-f92d-bbaafae0de59"
      },
      "execution_count": null,
      "outputs": [
        {
          "output_type": "stream",
          "name": "stdout",
          "text": [
            "test loss is 0.6213982701301575\n"
          ]
        }
      ]
    }
  ],
  "metadata": {
    "accelerator": "GPU",
    "colab": {
      "collapsed_sections": [
        "q-XIlEhXZpZK",
        "RX4Z9gMHcXjP",
        "kOwTBb9nMkgc"
      ],
      "provenance": [],
      "include_colab_link": true
    },
    "gpuClass": "standard",
    "kernelspec": {
      "display_name": "pytorch",
      "language": "python",
      "name": "python3"
    },
    "language_info": {
      "codemirror_mode": {
        "name": "ipython",
        "version": 3
      },
      "file_extension": ".py",
      "mimetype": "text/x-python",
      "name": "python",
      "nbconvert_exporter": "python",
      "pygments_lexer": "ipython3",
      "version": "3.10.8"
    },
    "vscode": {
      "interpreter": {
        "hash": "736147612112090e19aebe6736b57293588dd4c2950997ac48cc8e27568fc8f1"
      }
    },
    "widgets": {
      "application/vnd.jupyter.widget-state+json": {
        "ade26491b64d4fbe88f1ef397461cd02": {
          "model_module": "@jupyter-widgets/controls",
          "model_name": "HBoxModel",
          "model_module_version": "1.5.0",
          "state": {
            "_dom_classes": [],
            "_model_module": "@jupyter-widgets/controls",
            "_model_module_version": "1.5.0",
            "_model_name": "HBoxModel",
            "_view_count": null,
            "_view_module": "@jupyter-widgets/controls",
            "_view_module_version": "1.5.0",
            "_view_name": "HBoxView",
            "box_style": "",
            "children": [
              "IPY_MODEL_9c526697906549eda435a9b0836c4d1c",
              "IPY_MODEL_4d6f3bad50ff45ed95a5f46810be75c7",
              "IPY_MODEL_20c0894baedb4da0815cdb6eb4ff18a7"
            ],
            "layout": "IPY_MODEL_6ee296549e0e40f79e60911e7592bfc0"
          }
        },
        "9c526697906549eda435a9b0836c4d1c": {
          "model_module": "@jupyter-widgets/controls",
          "model_name": "HTMLModel",
          "model_module_version": "1.5.0",
          "state": {
            "_dom_classes": [],
            "_model_module": "@jupyter-widgets/controls",
            "_model_module_version": "1.5.0",
            "_model_name": "HTMLModel",
            "_view_count": null,
            "_view_module": "@jupyter-widgets/controls",
            "_view_module_version": "1.5.0",
            "_view_name": "HTMLView",
            "description": "",
            "description_tooltip": null,
            "layout": "IPY_MODEL_21cf4da6bd624b0697856a71c41b923f",
            "placeholder": "​",
            "style": "IPY_MODEL_087145240d8c48169cb29216e36015cd",
            "value": "100%"
          }
        },
        "4d6f3bad50ff45ed95a5f46810be75c7": {
          "model_module": "@jupyter-widgets/controls",
          "model_name": "FloatProgressModel",
          "model_module_version": "1.5.0",
          "state": {
            "_dom_classes": [],
            "_model_module": "@jupyter-widgets/controls",
            "_model_module_version": "1.5.0",
            "_model_name": "FloatProgressModel",
            "_view_count": null,
            "_view_module": "@jupyter-widgets/controls",
            "_view_module_version": "1.5.0",
            "_view_name": "ProgressView",
            "bar_style": "success",
            "description": "",
            "description_tooltip": null,
            "layout": "IPY_MODEL_da71a5e856bb4d98a9ac2f4ebc79f875",
            "max": 1000,
            "min": 0,
            "orientation": "horizontal",
            "style": "IPY_MODEL_28396bf0be4a4cec81d69ef049ccf9cf",
            "value": 1000
          }
        },
        "20c0894baedb4da0815cdb6eb4ff18a7": {
          "model_module": "@jupyter-widgets/controls",
          "model_name": "HTMLModel",
          "model_module_version": "1.5.0",
          "state": {
            "_dom_classes": [],
            "_model_module": "@jupyter-widgets/controls",
            "_model_module_version": "1.5.0",
            "_model_name": "HTMLModel",
            "_view_count": null,
            "_view_module": "@jupyter-widgets/controls",
            "_view_module_version": "1.5.0",
            "_view_name": "HTMLView",
            "description": "",
            "description_tooltip": null,
            "layout": "IPY_MODEL_235b6045b8ba46b2a23a8e172cef9549",
            "placeholder": "​",
            "style": "IPY_MODEL_6713829b0acc43d4aac451b69fa8ea4e",
            "value": " 1000/1000 [10:21&lt;00:00,  1.52it/s]"
          }
        },
        "6ee296549e0e40f79e60911e7592bfc0": {
          "model_module": "@jupyter-widgets/base",
          "model_name": "LayoutModel",
          "model_module_version": "1.2.0",
          "state": {
            "_model_module": "@jupyter-widgets/base",
            "_model_module_version": "1.2.0",
            "_model_name": "LayoutModel",
            "_view_count": null,
            "_view_module": "@jupyter-widgets/base",
            "_view_module_version": "1.2.0",
            "_view_name": "LayoutView",
            "align_content": null,
            "align_items": null,
            "align_self": null,
            "border": null,
            "bottom": null,
            "display": null,
            "flex": null,
            "flex_flow": null,
            "grid_area": null,
            "grid_auto_columns": null,
            "grid_auto_flow": null,
            "grid_auto_rows": null,
            "grid_column": null,
            "grid_gap": null,
            "grid_row": null,
            "grid_template_areas": null,
            "grid_template_columns": null,
            "grid_template_rows": null,
            "height": null,
            "justify_content": null,
            "justify_items": null,
            "left": null,
            "margin": null,
            "max_height": null,
            "max_width": null,
            "min_height": null,
            "min_width": null,
            "object_fit": null,
            "object_position": null,
            "order": null,
            "overflow": null,
            "overflow_x": null,
            "overflow_y": null,
            "padding": null,
            "right": null,
            "top": null,
            "visibility": null,
            "width": null
          }
        },
        "21cf4da6bd624b0697856a71c41b923f": {
          "model_module": "@jupyter-widgets/base",
          "model_name": "LayoutModel",
          "model_module_version": "1.2.0",
          "state": {
            "_model_module": "@jupyter-widgets/base",
            "_model_module_version": "1.2.0",
            "_model_name": "LayoutModel",
            "_view_count": null,
            "_view_module": "@jupyter-widgets/base",
            "_view_module_version": "1.2.0",
            "_view_name": "LayoutView",
            "align_content": null,
            "align_items": null,
            "align_self": null,
            "border": null,
            "bottom": null,
            "display": null,
            "flex": null,
            "flex_flow": null,
            "grid_area": null,
            "grid_auto_columns": null,
            "grid_auto_flow": null,
            "grid_auto_rows": null,
            "grid_column": null,
            "grid_gap": null,
            "grid_row": null,
            "grid_template_areas": null,
            "grid_template_columns": null,
            "grid_template_rows": null,
            "height": null,
            "justify_content": null,
            "justify_items": null,
            "left": null,
            "margin": null,
            "max_height": null,
            "max_width": null,
            "min_height": null,
            "min_width": null,
            "object_fit": null,
            "object_position": null,
            "order": null,
            "overflow": null,
            "overflow_x": null,
            "overflow_y": null,
            "padding": null,
            "right": null,
            "top": null,
            "visibility": null,
            "width": null
          }
        },
        "087145240d8c48169cb29216e36015cd": {
          "model_module": "@jupyter-widgets/controls",
          "model_name": "DescriptionStyleModel",
          "model_module_version": "1.5.0",
          "state": {
            "_model_module": "@jupyter-widgets/controls",
            "_model_module_version": "1.5.0",
            "_model_name": "DescriptionStyleModel",
            "_view_count": null,
            "_view_module": "@jupyter-widgets/base",
            "_view_module_version": "1.2.0",
            "_view_name": "StyleView",
            "description_width": ""
          }
        },
        "da71a5e856bb4d98a9ac2f4ebc79f875": {
          "model_module": "@jupyter-widgets/base",
          "model_name": "LayoutModel",
          "model_module_version": "1.2.0",
          "state": {
            "_model_module": "@jupyter-widgets/base",
            "_model_module_version": "1.2.0",
            "_model_name": "LayoutModel",
            "_view_count": null,
            "_view_module": "@jupyter-widgets/base",
            "_view_module_version": "1.2.0",
            "_view_name": "LayoutView",
            "align_content": null,
            "align_items": null,
            "align_self": null,
            "border": null,
            "bottom": null,
            "display": null,
            "flex": null,
            "flex_flow": null,
            "grid_area": null,
            "grid_auto_columns": null,
            "grid_auto_flow": null,
            "grid_auto_rows": null,
            "grid_column": null,
            "grid_gap": null,
            "grid_row": null,
            "grid_template_areas": null,
            "grid_template_columns": null,
            "grid_template_rows": null,
            "height": null,
            "justify_content": null,
            "justify_items": null,
            "left": null,
            "margin": null,
            "max_height": null,
            "max_width": null,
            "min_height": null,
            "min_width": null,
            "object_fit": null,
            "object_position": null,
            "order": null,
            "overflow": null,
            "overflow_x": null,
            "overflow_y": null,
            "padding": null,
            "right": null,
            "top": null,
            "visibility": null,
            "width": null
          }
        },
        "28396bf0be4a4cec81d69ef049ccf9cf": {
          "model_module": "@jupyter-widgets/controls",
          "model_name": "ProgressStyleModel",
          "model_module_version": "1.5.0",
          "state": {
            "_model_module": "@jupyter-widgets/controls",
            "_model_module_version": "1.5.0",
            "_model_name": "ProgressStyleModel",
            "_view_count": null,
            "_view_module": "@jupyter-widgets/base",
            "_view_module_version": "1.2.0",
            "_view_name": "StyleView",
            "bar_color": null,
            "description_width": ""
          }
        },
        "235b6045b8ba46b2a23a8e172cef9549": {
          "model_module": "@jupyter-widgets/base",
          "model_name": "LayoutModel",
          "model_module_version": "1.2.0",
          "state": {
            "_model_module": "@jupyter-widgets/base",
            "_model_module_version": "1.2.0",
            "_model_name": "LayoutModel",
            "_view_count": null,
            "_view_module": "@jupyter-widgets/base",
            "_view_module_version": "1.2.0",
            "_view_name": "LayoutView",
            "align_content": null,
            "align_items": null,
            "align_self": null,
            "border": null,
            "bottom": null,
            "display": null,
            "flex": null,
            "flex_flow": null,
            "grid_area": null,
            "grid_auto_columns": null,
            "grid_auto_flow": null,
            "grid_auto_rows": null,
            "grid_column": null,
            "grid_gap": null,
            "grid_row": null,
            "grid_template_areas": null,
            "grid_template_columns": null,
            "grid_template_rows": null,
            "height": null,
            "justify_content": null,
            "justify_items": null,
            "left": null,
            "margin": null,
            "max_height": null,
            "max_width": null,
            "min_height": null,
            "min_width": null,
            "object_fit": null,
            "object_position": null,
            "order": null,
            "overflow": null,
            "overflow_x": null,
            "overflow_y": null,
            "padding": null,
            "right": null,
            "top": null,
            "visibility": null,
            "width": null
          }
        },
        "6713829b0acc43d4aac451b69fa8ea4e": {
          "model_module": "@jupyter-widgets/controls",
          "model_name": "DescriptionStyleModel",
          "model_module_version": "1.5.0",
          "state": {
            "_model_module": "@jupyter-widgets/controls",
            "_model_module_version": "1.5.0",
            "_model_name": "DescriptionStyleModel",
            "_view_count": null,
            "_view_module": "@jupyter-widgets/base",
            "_view_module_version": "1.2.0",
            "_view_name": "StyleView",
            "description_width": ""
          }
        },
        "2c4cfb868ace4be881453ba87ee430c0": {
          "model_module": "@jupyter-widgets/controls",
          "model_name": "HBoxModel",
          "model_module_version": "1.5.0",
          "state": {
            "_dom_classes": [],
            "_model_module": "@jupyter-widgets/controls",
            "_model_module_version": "1.5.0",
            "_model_name": "HBoxModel",
            "_view_count": null,
            "_view_module": "@jupyter-widgets/controls",
            "_view_module_version": "1.5.0",
            "_view_name": "HBoxView",
            "box_style": "",
            "children": [
              "IPY_MODEL_f7a1790aa9a64a3b8201782e247d4945",
              "IPY_MODEL_eae529189d71480f992312151b561938",
              "IPY_MODEL_628ec8a76ee846939d5f4120e0d13275"
            ],
            "layout": "IPY_MODEL_2a0f688ee89c440986f4acd4541a3fa0"
          }
        },
        "f7a1790aa9a64a3b8201782e247d4945": {
          "model_module": "@jupyter-widgets/controls",
          "model_name": "HTMLModel",
          "model_module_version": "1.5.0",
          "state": {
            "_dom_classes": [],
            "_model_module": "@jupyter-widgets/controls",
            "_model_module_version": "1.5.0",
            "_model_name": "HTMLModel",
            "_view_count": null,
            "_view_module": "@jupyter-widgets/controls",
            "_view_module_version": "1.5.0",
            "_view_name": "HTMLView",
            "description": "",
            "description_tooltip": null,
            "layout": "IPY_MODEL_7ccee0796d764325b74daa5364bd7f74",
            "placeholder": "​",
            "style": "IPY_MODEL_c8a2c622f23046c8b1393f5aa0dbe554",
            "value": "100%"
          }
        },
        "eae529189d71480f992312151b561938": {
          "model_module": "@jupyter-widgets/controls",
          "model_name": "FloatProgressModel",
          "model_module_version": "1.5.0",
          "state": {
            "_dom_classes": [],
            "_model_module": "@jupyter-widgets/controls",
            "_model_module_version": "1.5.0",
            "_model_name": "FloatProgressModel",
            "_view_count": null,
            "_view_module": "@jupyter-widgets/controls",
            "_view_module_version": "1.5.0",
            "_view_name": "ProgressView",
            "bar_style": "success",
            "description": "",
            "description_tooltip": null,
            "layout": "IPY_MODEL_9074f8bcf6f449e48b005b09dc4a71c1",
            "max": 25,
            "min": 0,
            "orientation": "horizontal",
            "style": "IPY_MODEL_27cbee6d51734cb6aa4adadf726b3e83",
            "value": 25
          }
        },
        "628ec8a76ee846939d5f4120e0d13275": {
          "model_module": "@jupyter-widgets/controls",
          "model_name": "HTMLModel",
          "model_module_version": "1.5.0",
          "state": {
            "_dom_classes": [],
            "_model_module": "@jupyter-widgets/controls",
            "_model_module_version": "1.5.0",
            "_model_name": "HTMLModel",
            "_view_count": null,
            "_view_module": "@jupyter-widgets/controls",
            "_view_module_version": "1.5.0",
            "_view_name": "HTMLView",
            "description": "",
            "description_tooltip": null,
            "layout": "IPY_MODEL_4d74621e00774d7a8255d9e68e7e47b9",
            "placeholder": "​",
            "style": "IPY_MODEL_94063d8a75224eeb97bea35ed9f12aec",
            "value": " 25/25 [00:02&lt;00:00, 11.71it/s]"
          }
        },
        "2a0f688ee89c440986f4acd4541a3fa0": {
          "model_module": "@jupyter-widgets/base",
          "model_name": "LayoutModel",
          "model_module_version": "1.2.0",
          "state": {
            "_model_module": "@jupyter-widgets/base",
            "_model_module_version": "1.2.0",
            "_model_name": "LayoutModel",
            "_view_count": null,
            "_view_module": "@jupyter-widgets/base",
            "_view_module_version": "1.2.0",
            "_view_name": "LayoutView",
            "align_content": null,
            "align_items": null,
            "align_self": null,
            "border": null,
            "bottom": null,
            "display": null,
            "flex": null,
            "flex_flow": null,
            "grid_area": null,
            "grid_auto_columns": null,
            "grid_auto_flow": null,
            "grid_auto_rows": null,
            "grid_column": null,
            "grid_gap": null,
            "grid_row": null,
            "grid_template_areas": null,
            "grid_template_columns": null,
            "grid_template_rows": null,
            "height": null,
            "justify_content": null,
            "justify_items": null,
            "left": null,
            "margin": null,
            "max_height": null,
            "max_width": null,
            "min_height": null,
            "min_width": null,
            "object_fit": null,
            "object_position": null,
            "order": null,
            "overflow": null,
            "overflow_x": null,
            "overflow_y": null,
            "padding": null,
            "right": null,
            "top": null,
            "visibility": null,
            "width": null
          }
        },
        "7ccee0796d764325b74daa5364bd7f74": {
          "model_module": "@jupyter-widgets/base",
          "model_name": "LayoutModel",
          "model_module_version": "1.2.0",
          "state": {
            "_model_module": "@jupyter-widgets/base",
            "_model_module_version": "1.2.0",
            "_model_name": "LayoutModel",
            "_view_count": null,
            "_view_module": "@jupyter-widgets/base",
            "_view_module_version": "1.2.0",
            "_view_name": "LayoutView",
            "align_content": null,
            "align_items": null,
            "align_self": null,
            "border": null,
            "bottom": null,
            "display": null,
            "flex": null,
            "flex_flow": null,
            "grid_area": null,
            "grid_auto_columns": null,
            "grid_auto_flow": null,
            "grid_auto_rows": null,
            "grid_column": null,
            "grid_gap": null,
            "grid_row": null,
            "grid_template_areas": null,
            "grid_template_columns": null,
            "grid_template_rows": null,
            "height": null,
            "justify_content": null,
            "justify_items": null,
            "left": null,
            "margin": null,
            "max_height": null,
            "max_width": null,
            "min_height": null,
            "min_width": null,
            "object_fit": null,
            "object_position": null,
            "order": null,
            "overflow": null,
            "overflow_x": null,
            "overflow_y": null,
            "padding": null,
            "right": null,
            "top": null,
            "visibility": null,
            "width": null
          }
        },
        "c8a2c622f23046c8b1393f5aa0dbe554": {
          "model_module": "@jupyter-widgets/controls",
          "model_name": "DescriptionStyleModel",
          "model_module_version": "1.5.0",
          "state": {
            "_model_module": "@jupyter-widgets/controls",
            "_model_module_version": "1.5.0",
            "_model_name": "DescriptionStyleModel",
            "_view_count": null,
            "_view_module": "@jupyter-widgets/base",
            "_view_module_version": "1.2.0",
            "_view_name": "StyleView",
            "description_width": ""
          }
        },
        "9074f8bcf6f449e48b005b09dc4a71c1": {
          "model_module": "@jupyter-widgets/base",
          "model_name": "LayoutModel",
          "model_module_version": "1.2.0",
          "state": {
            "_model_module": "@jupyter-widgets/base",
            "_model_module_version": "1.2.0",
            "_model_name": "LayoutModel",
            "_view_count": null,
            "_view_module": "@jupyter-widgets/base",
            "_view_module_version": "1.2.0",
            "_view_name": "LayoutView",
            "align_content": null,
            "align_items": null,
            "align_self": null,
            "border": null,
            "bottom": null,
            "display": null,
            "flex": null,
            "flex_flow": null,
            "grid_area": null,
            "grid_auto_columns": null,
            "grid_auto_flow": null,
            "grid_auto_rows": null,
            "grid_column": null,
            "grid_gap": null,
            "grid_row": null,
            "grid_template_areas": null,
            "grid_template_columns": null,
            "grid_template_rows": null,
            "height": null,
            "justify_content": null,
            "justify_items": null,
            "left": null,
            "margin": null,
            "max_height": null,
            "max_width": null,
            "min_height": null,
            "min_width": null,
            "object_fit": null,
            "object_position": null,
            "order": null,
            "overflow": null,
            "overflow_x": null,
            "overflow_y": null,
            "padding": null,
            "right": null,
            "top": null,
            "visibility": null,
            "width": null
          }
        },
        "27cbee6d51734cb6aa4adadf726b3e83": {
          "model_module": "@jupyter-widgets/controls",
          "model_name": "ProgressStyleModel",
          "model_module_version": "1.5.0",
          "state": {
            "_model_module": "@jupyter-widgets/controls",
            "_model_module_version": "1.5.0",
            "_model_name": "ProgressStyleModel",
            "_view_count": null,
            "_view_module": "@jupyter-widgets/base",
            "_view_module_version": "1.2.0",
            "_view_name": "StyleView",
            "bar_color": null,
            "description_width": ""
          }
        },
        "4d74621e00774d7a8255d9e68e7e47b9": {
          "model_module": "@jupyter-widgets/base",
          "model_name": "LayoutModel",
          "model_module_version": "1.2.0",
          "state": {
            "_model_module": "@jupyter-widgets/base",
            "_model_module_version": "1.2.0",
            "_model_name": "LayoutModel",
            "_view_count": null,
            "_view_module": "@jupyter-widgets/base",
            "_view_module_version": "1.2.0",
            "_view_name": "LayoutView",
            "align_content": null,
            "align_items": null,
            "align_self": null,
            "border": null,
            "bottom": null,
            "display": null,
            "flex": null,
            "flex_flow": null,
            "grid_area": null,
            "grid_auto_columns": null,
            "grid_auto_flow": null,
            "grid_auto_rows": null,
            "grid_column": null,
            "grid_gap": null,
            "grid_row": null,
            "grid_template_areas": null,
            "grid_template_columns": null,
            "grid_template_rows": null,
            "height": null,
            "justify_content": null,
            "justify_items": null,
            "left": null,
            "margin": null,
            "max_height": null,
            "max_width": null,
            "min_height": null,
            "min_width": null,
            "object_fit": null,
            "object_position": null,
            "order": null,
            "overflow": null,
            "overflow_x": null,
            "overflow_y": null,
            "padding": null,
            "right": null,
            "top": null,
            "visibility": null,
            "width": null
          }
        },
        "94063d8a75224eeb97bea35ed9f12aec": {
          "model_module": "@jupyter-widgets/controls",
          "model_name": "DescriptionStyleModel",
          "model_module_version": "1.5.0",
          "state": {
            "_model_module": "@jupyter-widgets/controls",
            "_model_module_version": "1.5.0",
            "_model_name": "DescriptionStyleModel",
            "_view_count": null,
            "_view_module": "@jupyter-widgets/base",
            "_view_module_version": "1.2.0",
            "_view_name": "StyleView",
            "description_width": ""
          }
        }
      }
    }
  },
  "nbformat": 4,
  "nbformat_minor": 0
}